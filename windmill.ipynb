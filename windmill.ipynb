{
  "nbformat": 4,
  "nbformat_minor": 0,
  "metadata": {
    "colab": {
      "provenance": []
    },
    "kernelspec": {
      "name": "python3",
      "display_name": "Python 3"
    },
    "language_info": {
      "name": "python"
    }
  },
  "cells": [
    {
      "cell_type": "code",
      "execution_count": 8,
      "metadata": {
        "id": "2wmxmVzpfPBL"
      },
      "outputs": [],
      "source": [
        "\n",
        "import pandas as pd\n",
        "from ydata_profiling import ProfileReport\n",
        "from sklearn.model_selection import train_test_split\n",
        "from sklearn.pipeline import Pipeline\n",
        "from sklearn.preprocessing import StandardScaler\n",
        "from sklearn.impute import SimpleImputer\n",
        "from sklearn.preprocessing import OrdinalEncoder, OneHotEncoder\n",
        "from sklearn.compose import ColumnTransformer\n",
        "from sklearn.linear_model import LinearRegression\n",
        "from sklearn.ensemble import RandomForestRegressor\n",
        "from sklearn.metrics import mean_absolute_error, mean_squared_error, r2_score\n",
        "from sklearn.model_selection import GridSearchCV, RandomizedSearchCV\n",
        "#from lazypredict.Supervised import LazyRegressor\n"
      ]
    },
    {
      "cell_type": "code",
      "source": [
        "data = pd.read_csv(\"train.csv\")\n",
        "# tracking_id\n",
        "# datetime\n",
        "# wind_speed(m/s)\n",
        "# atmospheric_temperature(C)\n",
        "# shaft_temperature(C)\n",
        "# blades_angle\n",
        "# gearbox_temperature(C)\n",
        "# engine_temperature(C)\n",
        "# motor_torque(N-m)\n",
        "# generator_temperature(C)\n",
        "# atmospheric_pressure(Pascal)\n",
        "# area_temperature(C)\n",
        "# windmill_body_temperature(C)\n",
        "# wind_direction\n",
        "# resistance(ohm)\n",
        "# rotor_torque(N-m)\n",
        "# turbine_status\n",
        "# cloud_level\n",
        "# blade_length(m)\n",
        "# blade_breadth(m)\n",
        "# windmill_height(m)\n",
        "# windmill_generated_power(kW/h)\n",
        "\n",
        "#stat = data.describe()\n",
        "data = data.drop(\"tracking_id\",axis=1)\n",
        "data = data.drop(\"datetime\",axis=1)\n",
        "data = data.dropna()\n",
        "# report = ProfileReport(data, title = \"report\", explorative=True)\n",
        "# report.to_file(\"report.html\")\n",
        "\n",
        "for col in data.columns:\n",
        "  print(col)\n",
        "\n",
        "# target = \"windmill_generated_power(kW/h)\"\n",
        "# x = data.drop(target,axis=1)\n",
        "# y = data[target]\n",
        "# x_train, x_test, y_train, y_test = train_test_split(x, y, test_size=0.2, random_state=2024)"
      ],
      "metadata": {
        "id": "yw754iXQxrMx",
        "colab": {
          "base_uri": "https://localhost:8080/"
        },
        "outputId": "411fe9d4-88ca-484c-e94b-45da19413e16"
      },
      "execution_count": 9,
      "outputs": [
        {
          "output_type": "stream",
          "name": "stdout",
          "text": [
            "wind_speed(m/s) \n",
            "atmospheric_temperature(C)\n",
            "shaft_temperature(C)\n",
            "blades_angle\n",
            "gearbox_temperature(C)\n",
            "engine_temperature(C)\n",
            "motor_torque(N-m)\n",
            "generator_temperature(C)\n",
            "atmospheric_pressure(Pascal)\n",
            "area_temperature(C)\n",
            "windmill_body_temperature(C)\n",
            "wind_direction\n",
            "resistance(ohm)\n",
            "rotor_torque(N-m)\n",
            "turbine_status\n",
            "cloud_level\n",
            "blade_length(m)\n",
            "blade_breadth(m)\n",
            "windmill_height(m)\n",
            "windmill_generated_power(kW/h)\n"
          ]
        }
      ]
    }
  ]
}