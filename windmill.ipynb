{
  "nbformat": 4,
  "nbformat_minor": 0,
  "metadata": {
    "colab": {
      "provenance": []
    },
    "kernelspec": {
      "name": "python3",
      "display_name": "Python 3"
    },
    "language_info": {
      "name": "python"
    },
    "widgets": {
      "application/vnd.jupyter.widget-state+json": {
        "a31919af4e124adba6354f31079f0ebd": {
          "model_module": "@jupyter-widgets/controls",
          "model_name": "HBoxModel",
          "model_module_version": "1.5.0",
          "state": {
            "_dom_classes": [],
            "_model_module": "@jupyter-widgets/controls",
            "_model_module_version": "1.5.0",
            "_model_name": "HBoxModel",
            "_view_count": null,
            "_view_module": "@jupyter-widgets/controls",
            "_view_module_version": "1.5.0",
            "_view_name": "HBoxView",
            "box_style": "",
            "children": [
              "IPY_MODEL_935075601d634d98bdb32a3fb3558810",
              "IPY_MODEL_b0638344299446968f12a0f56bc8dfca",
              "IPY_MODEL_e3eb9c9538e24ddaab41153e313ca889"
            ],
            "layout": "IPY_MODEL_1fbeae39bdc34872a3eba5a16a71a168"
          }
        },
        "935075601d634d98bdb32a3fb3558810": {
          "model_module": "@jupyter-widgets/controls",
          "model_name": "HTMLModel",
          "model_module_version": "1.5.0",
          "state": {
            "_dom_classes": [],
            "_model_module": "@jupyter-widgets/controls",
            "_model_module_version": "1.5.0",
            "_model_name": "HTMLModel",
            "_view_count": null,
            "_view_module": "@jupyter-widgets/controls",
            "_view_module_version": "1.5.0",
            "_view_name": "HTMLView",
            "description": "",
            "description_tooltip": null,
            "layout": "IPY_MODEL_5688cc6591364041bbf41aaaa808a94e",
            "placeholder": "​",
            "style": "IPY_MODEL_5ee1fa56cfd14b289edbcbfa5d6694a7",
            "value": "Summarize dataset: 100%"
          }
        },
        "b0638344299446968f12a0f56bc8dfca": {
          "model_module": "@jupyter-widgets/controls",
          "model_name": "FloatProgressModel",
          "model_module_version": "1.5.0",
          "state": {
            "_dom_classes": [],
            "_model_module": "@jupyter-widgets/controls",
            "_model_module_version": "1.5.0",
            "_model_name": "FloatProgressModel",
            "_view_count": null,
            "_view_module": "@jupyter-widgets/controls",
            "_view_module_version": "1.5.0",
            "_view_name": "ProgressView",
            "bar_style": "success",
            "description": "",
            "description_tooltip": null,
            "layout": "IPY_MODEL_8bf461f578e4494fba6f7ca8f95f9c91",
            "max": 5,
            "min": 0,
            "orientation": "horizontal",
            "style": "IPY_MODEL_85f4f69cd912472880f46d476c55c981",
            "value": 5
          }
        },
        "e3eb9c9538e24ddaab41153e313ca889": {
          "model_module": "@jupyter-widgets/controls",
          "model_name": "HTMLModel",
          "model_module_version": "1.5.0",
          "state": {
            "_dom_classes": [],
            "_model_module": "@jupyter-widgets/controls",
            "_model_module_version": "1.5.0",
            "_model_name": "HTMLModel",
            "_view_count": null,
            "_view_module": "@jupyter-widgets/controls",
            "_view_module_version": "1.5.0",
            "_view_name": "HTMLView",
            "description": "",
            "description_tooltip": null,
            "layout": "IPY_MODEL_87143a147d29423892ea10533a4b320a",
            "placeholder": "​",
            "style": "IPY_MODEL_86be5776d9d54b0fb0866dddf1c93d56",
            "value": " 352/352 [01:02&lt;00:00,  2.20it/s, Completed]"
          }
        },
        "1fbeae39bdc34872a3eba5a16a71a168": {
          "model_module": "@jupyter-widgets/base",
          "model_name": "LayoutModel",
          "model_module_version": "1.2.0",
          "state": {
            "_model_module": "@jupyter-widgets/base",
            "_model_module_version": "1.2.0",
            "_model_name": "LayoutModel",
            "_view_count": null,
            "_view_module": "@jupyter-widgets/base",
            "_view_module_version": "1.2.0",
            "_view_name": "LayoutView",
            "align_content": null,
            "align_items": null,
            "align_self": null,
            "border": null,
            "bottom": null,
            "display": null,
            "flex": null,
            "flex_flow": null,
            "grid_area": null,
            "grid_auto_columns": null,
            "grid_auto_flow": null,
            "grid_auto_rows": null,
            "grid_column": null,
            "grid_gap": null,
            "grid_row": null,
            "grid_template_areas": null,
            "grid_template_columns": null,
            "grid_template_rows": null,
            "height": null,
            "justify_content": null,
            "justify_items": null,
            "left": null,
            "margin": null,
            "max_height": null,
            "max_width": null,
            "min_height": null,
            "min_width": null,
            "object_fit": null,
            "object_position": null,
            "order": null,
            "overflow": null,
            "overflow_x": null,
            "overflow_y": null,
            "padding": null,
            "right": null,
            "top": null,
            "visibility": null,
            "width": null
          }
        },
        "5688cc6591364041bbf41aaaa808a94e": {
          "model_module": "@jupyter-widgets/base",
          "model_name": "LayoutModel",
          "model_module_version": "1.2.0",
          "state": {
            "_model_module": "@jupyter-widgets/base",
            "_model_module_version": "1.2.0",
            "_model_name": "LayoutModel",
            "_view_count": null,
            "_view_module": "@jupyter-widgets/base",
            "_view_module_version": "1.2.0",
            "_view_name": "LayoutView",
            "align_content": null,
            "align_items": null,
            "align_self": null,
            "border": null,
            "bottom": null,
            "display": null,
            "flex": null,
            "flex_flow": null,
            "grid_area": null,
            "grid_auto_columns": null,
            "grid_auto_flow": null,
            "grid_auto_rows": null,
            "grid_column": null,
            "grid_gap": null,
            "grid_row": null,
            "grid_template_areas": null,
            "grid_template_columns": null,
            "grid_template_rows": null,
            "height": null,
            "justify_content": null,
            "justify_items": null,
            "left": null,
            "margin": null,
            "max_height": null,
            "max_width": null,
            "min_height": null,
            "min_width": null,
            "object_fit": null,
            "object_position": null,
            "order": null,
            "overflow": null,
            "overflow_x": null,
            "overflow_y": null,
            "padding": null,
            "right": null,
            "top": null,
            "visibility": null,
            "width": null
          }
        },
        "5ee1fa56cfd14b289edbcbfa5d6694a7": {
          "model_module": "@jupyter-widgets/controls",
          "model_name": "DescriptionStyleModel",
          "model_module_version": "1.5.0",
          "state": {
            "_model_module": "@jupyter-widgets/controls",
            "_model_module_version": "1.5.0",
            "_model_name": "DescriptionStyleModel",
            "_view_count": null,
            "_view_module": "@jupyter-widgets/base",
            "_view_module_version": "1.2.0",
            "_view_name": "StyleView",
            "description_width": ""
          }
        },
        "8bf461f578e4494fba6f7ca8f95f9c91": {
          "model_module": "@jupyter-widgets/base",
          "model_name": "LayoutModel",
          "model_module_version": "1.2.0",
          "state": {
            "_model_module": "@jupyter-widgets/base",
            "_model_module_version": "1.2.0",
            "_model_name": "LayoutModel",
            "_view_count": null,
            "_view_module": "@jupyter-widgets/base",
            "_view_module_version": "1.2.0",
            "_view_name": "LayoutView",
            "align_content": null,
            "align_items": null,
            "align_self": null,
            "border": null,
            "bottom": null,
            "display": null,
            "flex": null,
            "flex_flow": null,
            "grid_area": null,
            "grid_auto_columns": null,
            "grid_auto_flow": null,
            "grid_auto_rows": null,
            "grid_column": null,
            "grid_gap": null,
            "grid_row": null,
            "grid_template_areas": null,
            "grid_template_columns": null,
            "grid_template_rows": null,
            "height": null,
            "justify_content": null,
            "justify_items": null,
            "left": null,
            "margin": null,
            "max_height": null,
            "max_width": null,
            "min_height": null,
            "min_width": null,
            "object_fit": null,
            "object_position": null,
            "order": null,
            "overflow": null,
            "overflow_x": null,
            "overflow_y": null,
            "padding": null,
            "right": null,
            "top": null,
            "visibility": null,
            "width": null
          }
        },
        "85f4f69cd912472880f46d476c55c981": {
          "model_module": "@jupyter-widgets/controls",
          "model_name": "ProgressStyleModel",
          "model_module_version": "1.5.0",
          "state": {
            "_model_module": "@jupyter-widgets/controls",
            "_model_module_version": "1.5.0",
            "_model_name": "ProgressStyleModel",
            "_view_count": null,
            "_view_module": "@jupyter-widgets/base",
            "_view_module_version": "1.2.0",
            "_view_name": "StyleView",
            "bar_color": null,
            "description_width": ""
          }
        },
        "87143a147d29423892ea10533a4b320a": {
          "model_module": "@jupyter-widgets/base",
          "model_name": "LayoutModel",
          "model_module_version": "1.2.0",
          "state": {
            "_model_module": "@jupyter-widgets/base",
            "_model_module_version": "1.2.0",
            "_model_name": "LayoutModel",
            "_view_count": null,
            "_view_module": "@jupyter-widgets/base",
            "_view_module_version": "1.2.0",
            "_view_name": "LayoutView",
            "align_content": null,
            "align_items": null,
            "align_self": null,
            "border": null,
            "bottom": null,
            "display": null,
            "flex": null,
            "flex_flow": null,
            "grid_area": null,
            "grid_auto_columns": null,
            "grid_auto_flow": null,
            "grid_auto_rows": null,
            "grid_column": null,
            "grid_gap": null,
            "grid_row": null,
            "grid_template_areas": null,
            "grid_template_columns": null,
            "grid_template_rows": null,
            "height": null,
            "justify_content": null,
            "justify_items": null,
            "left": null,
            "margin": null,
            "max_height": null,
            "max_width": null,
            "min_height": null,
            "min_width": null,
            "object_fit": null,
            "object_position": null,
            "order": null,
            "overflow": null,
            "overflow_x": null,
            "overflow_y": null,
            "padding": null,
            "right": null,
            "top": null,
            "visibility": null,
            "width": null
          }
        },
        "86be5776d9d54b0fb0866dddf1c93d56": {
          "model_module": "@jupyter-widgets/controls",
          "model_name": "DescriptionStyleModel",
          "model_module_version": "1.5.0",
          "state": {
            "_model_module": "@jupyter-widgets/controls",
            "_model_module_version": "1.5.0",
            "_model_name": "DescriptionStyleModel",
            "_view_count": null,
            "_view_module": "@jupyter-widgets/base",
            "_view_module_version": "1.2.0",
            "_view_name": "StyleView",
            "description_width": ""
          }
        },
        "26e0da5d3f9d4d67adfc3b878050d169": {
          "model_module": "@jupyter-widgets/controls",
          "model_name": "HBoxModel",
          "model_module_version": "1.5.0",
          "state": {
            "_dom_classes": [],
            "_model_module": "@jupyter-widgets/controls",
            "_model_module_version": "1.5.0",
            "_model_name": "HBoxModel",
            "_view_count": null,
            "_view_module": "@jupyter-widgets/controls",
            "_view_module_version": "1.5.0",
            "_view_name": "HBoxView",
            "box_style": "",
            "children": [
              "IPY_MODEL_2ea0dcb8ea4c49688fd5c66ff2b5fdf0",
              "IPY_MODEL_876fc61af58444fda451ebadd2c5dddb",
              "IPY_MODEL_b4de278b3e934e4993aeb07afcba5590"
            ],
            "layout": "IPY_MODEL_cfc36a9c987f4a01a5b43c98e4642943"
          }
        },
        "2ea0dcb8ea4c49688fd5c66ff2b5fdf0": {
          "model_module": "@jupyter-widgets/controls",
          "model_name": "HTMLModel",
          "model_module_version": "1.5.0",
          "state": {
            "_dom_classes": [],
            "_model_module": "@jupyter-widgets/controls",
            "_model_module_version": "1.5.0",
            "_model_name": "HTMLModel",
            "_view_count": null,
            "_view_module": "@jupyter-widgets/controls",
            "_view_module_version": "1.5.0",
            "_view_name": "HTMLView",
            "description": "",
            "description_tooltip": null,
            "layout": "IPY_MODEL_328e209fcfe944018adfc6326af99200",
            "placeholder": "​",
            "style": "IPY_MODEL_d5fb4a7af8e94982b7de5d34fecfef77",
            "value": "Generate report structure: 100%"
          }
        },
        "876fc61af58444fda451ebadd2c5dddb": {
          "model_module": "@jupyter-widgets/controls",
          "model_name": "FloatProgressModel",
          "model_module_version": "1.5.0",
          "state": {
            "_dom_classes": [],
            "_model_module": "@jupyter-widgets/controls",
            "_model_module_version": "1.5.0",
            "_model_name": "FloatProgressModel",
            "_view_count": null,
            "_view_module": "@jupyter-widgets/controls",
            "_view_module_version": "1.5.0",
            "_view_name": "ProgressView",
            "bar_style": "success",
            "description": "",
            "description_tooltip": null,
            "layout": "IPY_MODEL_eb9e916613a74e5299fedec226144ab1",
            "max": 1,
            "min": 0,
            "orientation": "horizontal",
            "style": "IPY_MODEL_d10a579654304d5bbafb78628a5539df",
            "value": 1
          }
        },
        "b4de278b3e934e4993aeb07afcba5590": {
          "model_module": "@jupyter-widgets/controls",
          "model_name": "HTMLModel",
          "model_module_version": "1.5.0",
          "state": {
            "_dom_classes": [],
            "_model_module": "@jupyter-widgets/controls",
            "_model_module_version": "1.5.0",
            "_model_name": "HTMLModel",
            "_view_count": null,
            "_view_module": "@jupyter-widgets/controls",
            "_view_module_version": "1.5.0",
            "_view_name": "HTMLView",
            "description": "",
            "description_tooltip": null,
            "layout": "IPY_MODEL_23fab7d5c8594813b7cc43246af8d70f",
            "placeholder": "​",
            "style": "IPY_MODEL_04e2ac0579424a65991d3b0b5a65e135",
            "value": " 1/1 [00:07&lt;00:00,  7.45s/it]"
          }
        },
        "cfc36a9c987f4a01a5b43c98e4642943": {
          "model_module": "@jupyter-widgets/base",
          "model_name": "LayoutModel",
          "model_module_version": "1.2.0",
          "state": {
            "_model_module": "@jupyter-widgets/base",
            "_model_module_version": "1.2.0",
            "_model_name": "LayoutModel",
            "_view_count": null,
            "_view_module": "@jupyter-widgets/base",
            "_view_module_version": "1.2.0",
            "_view_name": "LayoutView",
            "align_content": null,
            "align_items": null,
            "align_self": null,
            "border": null,
            "bottom": null,
            "display": null,
            "flex": null,
            "flex_flow": null,
            "grid_area": null,
            "grid_auto_columns": null,
            "grid_auto_flow": null,
            "grid_auto_rows": null,
            "grid_column": null,
            "grid_gap": null,
            "grid_row": null,
            "grid_template_areas": null,
            "grid_template_columns": null,
            "grid_template_rows": null,
            "height": null,
            "justify_content": null,
            "justify_items": null,
            "left": null,
            "margin": null,
            "max_height": null,
            "max_width": null,
            "min_height": null,
            "min_width": null,
            "object_fit": null,
            "object_position": null,
            "order": null,
            "overflow": null,
            "overflow_x": null,
            "overflow_y": null,
            "padding": null,
            "right": null,
            "top": null,
            "visibility": null,
            "width": null
          }
        },
        "328e209fcfe944018adfc6326af99200": {
          "model_module": "@jupyter-widgets/base",
          "model_name": "LayoutModel",
          "model_module_version": "1.2.0",
          "state": {
            "_model_module": "@jupyter-widgets/base",
            "_model_module_version": "1.2.0",
            "_model_name": "LayoutModel",
            "_view_count": null,
            "_view_module": "@jupyter-widgets/base",
            "_view_module_version": "1.2.0",
            "_view_name": "LayoutView",
            "align_content": null,
            "align_items": null,
            "align_self": null,
            "border": null,
            "bottom": null,
            "display": null,
            "flex": null,
            "flex_flow": null,
            "grid_area": null,
            "grid_auto_columns": null,
            "grid_auto_flow": null,
            "grid_auto_rows": null,
            "grid_column": null,
            "grid_gap": null,
            "grid_row": null,
            "grid_template_areas": null,
            "grid_template_columns": null,
            "grid_template_rows": null,
            "height": null,
            "justify_content": null,
            "justify_items": null,
            "left": null,
            "margin": null,
            "max_height": null,
            "max_width": null,
            "min_height": null,
            "min_width": null,
            "object_fit": null,
            "object_position": null,
            "order": null,
            "overflow": null,
            "overflow_x": null,
            "overflow_y": null,
            "padding": null,
            "right": null,
            "top": null,
            "visibility": null,
            "width": null
          }
        },
        "d5fb4a7af8e94982b7de5d34fecfef77": {
          "model_module": "@jupyter-widgets/controls",
          "model_name": "DescriptionStyleModel",
          "model_module_version": "1.5.0",
          "state": {
            "_model_module": "@jupyter-widgets/controls",
            "_model_module_version": "1.5.0",
            "_model_name": "DescriptionStyleModel",
            "_view_count": null,
            "_view_module": "@jupyter-widgets/base",
            "_view_module_version": "1.2.0",
            "_view_name": "StyleView",
            "description_width": ""
          }
        },
        "eb9e916613a74e5299fedec226144ab1": {
          "model_module": "@jupyter-widgets/base",
          "model_name": "LayoutModel",
          "model_module_version": "1.2.0",
          "state": {
            "_model_module": "@jupyter-widgets/base",
            "_model_module_version": "1.2.0",
            "_model_name": "LayoutModel",
            "_view_count": null,
            "_view_module": "@jupyter-widgets/base",
            "_view_module_version": "1.2.0",
            "_view_name": "LayoutView",
            "align_content": null,
            "align_items": null,
            "align_self": null,
            "border": null,
            "bottom": null,
            "display": null,
            "flex": null,
            "flex_flow": null,
            "grid_area": null,
            "grid_auto_columns": null,
            "grid_auto_flow": null,
            "grid_auto_rows": null,
            "grid_column": null,
            "grid_gap": null,
            "grid_row": null,
            "grid_template_areas": null,
            "grid_template_columns": null,
            "grid_template_rows": null,
            "height": null,
            "justify_content": null,
            "justify_items": null,
            "left": null,
            "margin": null,
            "max_height": null,
            "max_width": null,
            "min_height": null,
            "min_width": null,
            "object_fit": null,
            "object_position": null,
            "order": null,
            "overflow": null,
            "overflow_x": null,
            "overflow_y": null,
            "padding": null,
            "right": null,
            "top": null,
            "visibility": null,
            "width": null
          }
        },
        "d10a579654304d5bbafb78628a5539df": {
          "model_module": "@jupyter-widgets/controls",
          "model_name": "ProgressStyleModel",
          "model_module_version": "1.5.0",
          "state": {
            "_model_module": "@jupyter-widgets/controls",
            "_model_module_version": "1.5.0",
            "_model_name": "ProgressStyleModel",
            "_view_count": null,
            "_view_module": "@jupyter-widgets/base",
            "_view_module_version": "1.2.0",
            "_view_name": "StyleView",
            "bar_color": null,
            "description_width": ""
          }
        },
        "23fab7d5c8594813b7cc43246af8d70f": {
          "model_module": "@jupyter-widgets/base",
          "model_name": "LayoutModel",
          "model_module_version": "1.2.0",
          "state": {
            "_model_module": "@jupyter-widgets/base",
            "_model_module_version": "1.2.0",
            "_model_name": "LayoutModel",
            "_view_count": null,
            "_view_module": "@jupyter-widgets/base",
            "_view_module_version": "1.2.0",
            "_view_name": "LayoutView",
            "align_content": null,
            "align_items": null,
            "align_self": null,
            "border": null,
            "bottom": null,
            "display": null,
            "flex": null,
            "flex_flow": null,
            "grid_area": null,
            "grid_auto_columns": null,
            "grid_auto_flow": null,
            "grid_auto_rows": null,
            "grid_column": null,
            "grid_gap": null,
            "grid_row": null,
            "grid_template_areas": null,
            "grid_template_columns": null,
            "grid_template_rows": null,
            "height": null,
            "justify_content": null,
            "justify_items": null,
            "left": null,
            "margin": null,
            "max_height": null,
            "max_width": null,
            "min_height": null,
            "min_width": null,
            "object_fit": null,
            "object_position": null,
            "order": null,
            "overflow": null,
            "overflow_x": null,
            "overflow_y": null,
            "padding": null,
            "right": null,
            "top": null,
            "visibility": null,
            "width": null
          }
        },
        "04e2ac0579424a65991d3b0b5a65e135": {
          "model_module": "@jupyter-widgets/controls",
          "model_name": "DescriptionStyleModel",
          "model_module_version": "1.5.0",
          "state": {
            "_model_module": "@jupyter-widgets/controls",
            "_model_module_version": "1.5.0",
            "_model_name": "DescriptionStyleModel",
            "_view_count": null,
            "_view_module": "@jupyter-widgets/base",
            "_view_module_version": "1.2.0",
            "_view_name": "StyleView",
            "description_width": ""
          }
        },
        "d8f97d07c3cf46afb6aeab3a506549cd": {
          "model_module": "@jupyter-widgets/controls",
          "model_name": "HBoxModel",
          "model_module_version": "1.5.0",
          "state": {
            "_dom_classes": [],
            "_model_module": "@jupyter-widgets/controls",
            "_model_module_version": "1.5.0",
            "_model_name": "HBoxModel",
            "_view_count": null,
            "_view_module": "@jupyter-widgets/controls",
            "_view_module_version": "1.5.0",
            "_view_name": "HBoxView",
            "box_style": "",
            "children": [
              "IPY_MODEL_0f00fe63649c489cbf93eee0dd9d7670",
              "IPY_MODEL_283e7a950b8f4c6bbf7dfbe4c69bd015",
              "IPY_MODEL_3ccd1f42c85648a4a103571ce81467e9"
            ],
            "layout": "IPY_MODEL_75be41aee71f485f969bc713aa62cffb"
          }
        },
        "0f00fe63649c489cbf93eee0dd9d7670": {
          "model_module": "@jupyter-widgets/controls",
          "model_name": "HTMLModel",
          "model_module_version": "1.5.0",
          "state": {
            "_dom_classes": [],
            "_model_module": "@jupyter-widgets/controls",
            "_model_module_version": "1.5.0",
            "_model_name": "HTMLModel",
            "_view_count": null,
            "_view_module": "@jupyter-widgets/controls",
            "_view_module_version": "1.5.0",
            "_view_name": "HTMLView",
            "description": "",
            "description_tooltip": null,
            "layout": "IPY_MODEL_b5bfee7d53cf48c99cc6f5fcdd3253bf",
            "placeholder": "​",
            "style": "IPY_MODEL_e2beb0ea1b7e469e9d6a17e272f48f19",
            "value": "Render HTML: 100%"
          }
        },
        "283e7a950b8f4c6bbf7dfbe4c69bd015": {
          "model_module": "@jupyter-widgets/controls",
          "model_name": "FloatProgressModel",
          "model_module_version": "1.5.0",
          "state": {
            "_dom_classes": [],
            "_model_module": "@jupyter-widgets/controls",
            "_model_module_version": "1.5.0",
            "_model_name": "FloatProgressModel",
            "_view_count": null,
            "_view_module": "@jupyter-widgets/controls",
            "_view_module_version": "1.5.0",
            "_view_name": "ProgressView",
            "bar_style": "success",
            "description": "",
            "description_tooltip": null,
            "layout": "IPY_MODEL_fdd10ba16bb842d99efe5d221f9f3ddd",
            "max": 1,
            "min": 0,
            "orientation": "horizontal",
            "style": "IPY_MODEL_f166b6ba282b4ce88b675e70ecbb287c",
            "value": 1
          }
        },
        "3ccd1f42c85648a4a103571ce81467e9": {
          "model_module": "@jupyter-widgets/controls",
          "model_name": "HTMLModel",
          "model_module_version": "1.5.0",
          "state": {
            "_dom_classes": [],
            "_model_module": "@jupyter-widgets/controls",
            "_model_module_version": "1.5.0",
            "_model_name": "HTMLModel",
            "_view_count": null,
            "_view_module": "@jupyter-widgets/controls",
            "_view_module_version": "1.5.0",
            "_view_name": "HTMLView",
            "description": "",
            "description_tooltip": null,
            "layout": "IPY_MODEL_b03689c2b5d8455ea088efc8d814b1de",
            "placeholder": "​",
            "style": "IPY_MODEL_2a91973a33ec4688b60bd67de91d08d3",
            "value": " 1/1 [00:07&lt;00:00,  7.59s/it]"
          }
        },
        "75be41aee71f485f969bc713aa62cffb": {
          "model_module": "@jupyter-widgets/base",
          "model_name": "LayoutModel",
          "model_module_version": "1.2.0",
          "state": {
            "_model_module": "@jupyter-widgets/base",
            "_model_module_version": "1.2.0",
            "_model_name": "LayoutModel",
            "_view_count": null,
            "_view_module": "@jupyter-widgets/base",
            "_view_module_version": "1.2.0",
            "_view_name": "LayoutView",
            "align_content": null,
            "align_items": null,
            "align_self": null,
            "border": null,
            "bottom": null,
            "display": null,
            "flex": null,
            "flex_flow": null,
            "grid_area": null,
            "grid_auto_columns": null,
            "grid_auto_flow": null,
            "grid_auto_rows": null,
            "grid_column": null,
            "grid_gap": null,
            "grid_row": null,
            "grid_template_areas": null,
            "grid_template_columns": null,
            "grid_template_rows": null,
            "height": null,
            "justify_content": null,
            "justify_items": null,
            "left": null,
            "margin": null,
            "max_height": null,
            "max_width": null,
            "min_height": null,
            "min_width": null,
            "object_fit": null,
            "object_position": null,
            "order": null,
            "overflow": null,
            "overflow_x": null,
            "overflow_y": null,
            "padding": null,
            "right": null,
            "top": null,
            "visibility": null,
            "width": null
          }
        },
        "b5bfee7d53cf48c99cc6f5fcdd3253bf": {
          "model_module": "@jupyter-widgets/base",
          "model_name": "LayoutModel",
          "model_module_version": "1.2.0",
          "state": {
            "_model_module": "@jupyter-widgets/base",
            "_model_module_version": "1.2.0",
            "_model_name": "LayoutModel",
            "_view_count": null,
            "_view_module": "@jupyter-widgets/base",
            "_view_module_version": "1.2.0",
            "_view_name": "LayoutView",
            "align_content": null,
            "align_items": null,
            "align_self": null,
            "border": null,
            "bottom": null,
            "display": null,
            "flex": null,
            "flex_flow": null,
            "grid_area": null,
            "grid_auto_columns": null,
            "grid_auto_flow": null,
            "grid_auto_rows": null,
            "grid_column": null,
            "grid_gap": null,
            "grid_row": null,
            "grid_template_areas": null,
            "grid_template_columns": null,
            "grid_template_rows": null,
            "height": null,
            "justify_content": null,
            "justify_items": null,
            "left": null,
            "margin": null,
            "max_height": null,
            "max_width": null,
            "min_height": null,
            "min_width": null,
            "object_fit": null,
            "object_position": null,
            "order": null,
            "overflow": null,
            "overflow_x": null,
            "overflow_y": null,
            "padding": null,
            "right": null,
            "top": null,
            "visibility": null,
            "width": null
          }
        },
        "e2beb0ea1b7e469e9d6a17e272f48f19": {
          "model_module": "@jupyter-widgets/controls",
          "model_name": "DescriptionStyleModel",
          "model_module_version": "1.5.0",
          "state": {
            "_model_module": "@jupyter-widgets/controls",
            "_model_module_version": "1.5.0",
            "_model_name": "DescriptionStyleModel",
            "_view_count": null,
            "_view_module": "@jupyter-widgets/base",
            "_view_module_version": "1.2.0",
            "_view_name": "StyleView",
            "description_width": ""
          }
        },
        "fdd10ba16bb842d99efe5d221f9f3ddd": {
          "model_module": "@jupyter-widgets/base",
          "model_name": "LayoutModel",
          "model_module_version": "1.2.0",
          "state": {
            "_model_module": "@jupyter-widgets/base",
            "_model_module_version": "1.2.0",
            "_model_name": "LayoutModel",
            "_view_count": null,
            "_view_module": "@jupyter-widgets/base",
            "_view_module_version": "1.2.0",
            "_view_name": "LayoutView",
            "align_content": null,
            "align_items": null,
            "align_self": null,
            "border": null,
            "bottom": null,
            "display": null,
            "flex": null,
            "flex_flow": null,
            "grid_area": null,
            "grid_auto_columns": null,
            "grid_auto_flow": null,
            "grid_auto_rows": null,
            "grid_column": null,
            "grid_gap": null,
            "grid_row": null,
            "grid_template_areas": null,
            "grid_template_columns": null,
            "grid_template_rows": null,
            "height": null,
            "justify_content": null,
            "justify_items": null,
            "left": null,
            "margin": null,
            "max_height": null,
            "max_width": null,
            "min_height": null,
            "min_width": null,
            "object_fit": null,
            "object_position": null,
            "order": null,
            "overflow": null,
            "overflow_x": null,
            "overflow_y": null,
            "padding": null,
            "right": null,
            "top": null,
            "visibility": null,
            "width": null
          }
        },
        "f166b6ba282b4ce88b675e70ecbb287c": {
          "model_module": "@jupyter-widgets/controls",
          "model_name": "ProgressStyleModel",
          "model_module_version": "1.5.0",
          "state": {
            "_model_module": "@jupyter-widgets/controls",
            "_model_module_version": "1.5.0",
            "_model_name": "ProgressStyleModel",
            "_view_count": null,
            "_view_module": "@jupyter-widgets/base",
            "_view_module_version": "1.2.0",
            "_view_name": "StyleView",
            "bar_color": null,
            "description_width": ""
          }
        },
        "b03689c2b5d8455ea088efc8d814b1de": {
          "model_module": "@jupyter-widgets/base",
          "model_name": "LayoutModel",
          "model_module_version": "1.2.0",
          "state": {
            "_model_module": "@jupyter-widgets/base",
            "_model_module_version": "1.2.0",
            "_model_name": "LayoutModel",
            "_view_count": null,
            "_view_module": "@jupyter-widgets/base",
            "_view_module_version": "1.2.0",
            "_view_name": "LayoutView",
            "align_content": null,
            "align_items": null,
            "align_self": null,
            "border": null,
            "bottom": null,
            "display": null,
            "flex": null,
            "flex_flow": null,
            "grid_area": null,
            "grid_auto_columns": null,
            "grid_auto_flow": null,
            "grid_auto_rows": null,
            "grid_column": null,
            "grid_gap": null,
            "grid_row": null,
            "grid_template_areas": null,
            "grid_template_columns": null,
            "grid_template_rows": null,
            "height": null,
            "justify_content": null,
            "justify_items": null,
            "left": null,
            "margin": null,
            "max_height": null,
            "max_width": null,
            "min_height": null,
            "min_width": null,
            "object_fit": null,
            "object_position": null,
            "order": null,
            "overflow": null,
            "overflow_x": null,
            "overflow_y": null,
            "padding": null,
            "right": null,
            "top": null,
            "visibility": null,
            "width": null
          }
        },
        "2a91973a33ec4688b60bd67de91d08d3": {
          "model_module": "@jupyter-widgets/controls",
          "model_name": "DescriptionStyleModel",
          "model_module_version": "1.5.0",
          "state": {
            "_model_module": "@jupyter-widgets/controls",
            "_model_module_version": "1.5.0",
            "_model_name": "DescriptionStyleModel",
            "_view_count": null,
            "_view_module": "@jupyter-widgets/base",
            "_view_module_version": "1.2.0",
            "_view_name": "StyleView",
            "description_width": ""
          }
        },
        "8e577e5e6f63400194eb54aa226055c2": {
          "model_module": "@jupyter-widgets/controls",
          "model_name": "HBoxModel",
          "model_module_version": "1.5.0",
          "state": {
            "_dom_classes": [],
            "_model_module": "@jupyter-widgets/controls",
            "_model_module_version": "1.5.0",
            "_model_name": "HBoxModel",
            "_view_count": null,
            "_view_module": "@jupyter-widgets/controls",
            "_view_module_version": "1.5.0",
            "_view_name": "HBoxView",
            "box_style": "",
            "children": [
              "IPY_MODEL_3980083539e648d6a6554f644c61dddf",
              "IPY_MODEL_6467dab696144e799c0de301642e3436",
              "IPY_MODEL_eeeee3b0e3bf47ba96e5d5f6293486f4"
            ],
            "layout": "IPY_MODEL_5fba87490cee4314baf552125aa5b901"
          }
        },
        "3980083539e648d6a6554f644c61dddf": {
          "model_module": "@jupyter-widgets/controls",
          "model_name": "HTMLModel",
          "model_module_version": "1.5.0",
          "state": {
            "_dom_classes": [],
            "_model_module": "@jupyter-widgets/controls",
            "_model_module_version": "1.5.0",
            "_model_name": "HTMLModel",
            "_view_count": null,
            "_view_module": "@jupyter-widgets/controls",
            "_view_module_version": "1.5.0",
            "_view_name": "HTMLView",
            "description": "",
            "description_tooltip": null,
            "layout": "IPY_MODEL_621107c2e68a41bfad4244ed0defddab",
            "placeholder": "​",
            "style": "IPY_MODEL_d86cb8280ddd44d395d0e4cc8ada4177",
            "value": "Export report to file: 100%"
          }
        },
        "6467dab696144e799c0de301642e3436": {
          "model_module": "@jupyter-widgets/controls",
          "model_name": "FloatProgressModel",
          "model_module_version": "1.5.0",
          "state": {
            "_dom_classes": [],
            "_model_module": "@jupyter-widgets/controls",
            "_model_module_version": "1.5.0",
            "_model_name": "FloatProgressModel",
            "_view_count": null,
            "_view_module": "@jupyter-widgets/controls",
            "_view_module_version": "1.5.0",
            "_view_name": "ProgressView",
            "bar_style": "success",
            "description": "",
            "description_tooltip": null,
            "layout": "IPY_MODEL_bd8131e7a24d40ffa7109a580788922e",
            "max": 1,
            "min": 0,
            "orientation": "horizontal",
            "style": "IPY_MODEL_a5cf913ecb9a461f80dc0d8dde20fa61",
            "value": 1
          }
        },
        "eeeee3b0e3bf47ba96e5d5f6293486f4": {
          "model_module": "@jupyter-widgets/controls",
          "model_name": "HTMLModel",
          "model_module_version": "1.5.0",
          "state": {
            "_dom_classes": [],
            "_model_module": "@jupyter-widgets/controls",
            "_model_module_version": "1.5.0",
            "_model_name": "HTMLModel",
            "_view_count": null,
            "_view_module": "@jupyter-widgets/controls",
            "_view_module_version": "1.5.0",
            "_view_name": "HTMLView",
            "description": "",
            "description_tooltip": null,
            "layout": "IPY_MODEL_8a2c8bbbac8b4f7b8b8b9d7ca28363b1",
            "placeholder": "​",
            "style": "IPY_MODEL_096bd785274f4a4ca56d2989db7d0d5a",
            "value": " 1/1 [00:00&lt;00:00, 21.28it/s]"
          }
        },
        "5fba87490cee4314baf552125aa5b901": {
          "model_module": "@jupyter-widgets/base",
          "model_name": "LayoutModel",
          "model_module_version": "1.2.0",
          "state": {
            "_model_module": "@jupyter-widgets/base",
            "_model_module_version": "1.2.0",
            "_model_name": "LayoutModel",
            "_view_count": null,
            "_view_module": "@jupyter-widgets/base",
            "_view_module_version": "1.2.0",
            "_view_name": "LayoutView",
            "align_content": null,
            "align_items": null,
            "align_self": null,
            "border": null,
            "bottom": null,
            "display": null,
            "flex": null,
            "flex_flow": null,
            "grid_area": null,
            "grid_auto_columns": null,
            "grid_auto_flow": null,
            "grid_auto_rows": null,
            "grid_column": null,
            "grid_gap": null,
            "grid_row": null,
            "grid_template_areas": null,
            "grid_template_columns": null,
            "grid_template_rows": null,
            "height": null,
            "justify_content": null,
            "justify_items": null,
            "left": null,
            "margin": null,
            "max_height": null,
            "max_width": null,
            "min_height": null,
            "min_width": null,
            "object_fit": null,
            "object_position": null,
            "order": null,
            "overflow": null,
            "overflow_x": null,
            "overflow_y": null,
            "padding": null,
            "right": null,
            "top": null,
            "visibility": null,
            "width": null
          }
        },
        "621107c2e68a41bfad4244ed0defddab": {
          "model_module": "@jupyter-widgets/base",
          "model_name": "LayoutModel",
          "model_module_version": "1.2.0",
          "state": {
            "_model_module": "@jupyter-widgets/base",
            "_model_module_version": "1.2.0",
            "_model_name": "LayoutModel",
            "_view_count": null,
            "_view_module": "@jupyter-widgets/base",
            "_view_module_version": "1.2.0",
            "_view_name": "LayoutView",
            "align_content": null,
            "align_items": null,
            "align_self": null,
            "border": null,
            "bottom": null,
            "display": null,
            "flex": null,
            "flex_flow": null,
            "grid_area": null,
            "grid_auto_columns": null,
            "grid_auto_flow": null,
            "grid_auto_rows": null,
            "grid_column": null,
            "grid_gap": null,
            "grid_row": null,
            "grid_template_areas": null,
            "grid_template_columns": null,
            "grid_template_rows": null,
            "height": null,
            "justify_content": null,
            "justify_items": null,
            "left": null,
            "margin": null,
            "max_height": null,
            "max_width": null,
            "min_height": null,
            "min_width": null,
            "object_fit": null,
            "object_position": null,
            "order": null,
            "overflow": null,
            "overflow_x": null,
            "overflow_y": null,
            "padding": null,
            "right": null,
            "top": null,
            "visibility": null,
            "width": null
          }
        },
        "d86cb8280ddd44d395d0e4cc8ada4177": {
          "model_module": "@jupyter-widgets/controls",
          "model_name": "DescriptionStyleModel",
          "model_module_version": "1.5.0",
          "state": {
            "_model_module": "@jupyter-widgets/controls",
            "_model_module_version": "1.5.0",
            "_model_name": "DescriptionStyleModel",
            "_view_count": null,
            "_view_module": "@jupyter-widgets/base",
            "_view_module_version": "1.2.0",
            "_view_name": "StyleView",
            "description_width": ""
          }
        },
        "bd8131e7a24d40ffa7109a580788922e": {
          "model_module": "@jupyter-widgets/base",
          "model_name": "LayoutModel",
          "model_module_version": "1.2.0",
          "state": {
            "_model_module": "@jupyter-widgets/base",
            "_model_module_version": "1.2.0",
            "_model_name": "LayoutModel",
            "_view_count": null,
            "_view_module": "@jupyter-widgets/base",
            "_view_module_version": "1.2.0",
            "_view_name": "LayoutView",
            "align_content": null,
            "align_items": null,
            "align_self": null,
            "border": null,
            "bottom": null,
            "display": null,
            "flex": null,
            "flex_flow": null,
            "grid_area": null,
            "grid_auto_columns": null,
            "grid_auto_flow": null,
            "grid_auto_rows": null,
            "grid_column": null,
            "grid_gap": null,
            "grid_row": null,
            "grid_template_areas": null,
            "grid_template_columns": null,
            "grid_template_rows": null,
            "height": null,
            "justify_content": null,
            "justify_items": null,
            "left": null,
            "margin": null,
            "max_height": null,
            "max_width": null,
            "min_height": null,
            "min_width": null,
            "object_fit": null,
            "object_position": null,
            "order": null,
            "overflow": null,
            "overflow_x": null,
            "overflow_y": null,
            "padding": null,
            "right": null,
            "top": null,
            "visibility": null,
            "width": null
          }
        },
        "a5cf913ecb9a461f80dc0d8dde20fa61": {
          "model_module": "@jupyter-widgets/controls",
          "model_name": "ProgressStyleModel",
          "model_module_version": "1.5.0",
          "state": {
            "_model_module": "@jupyter-widgets/controls",
            "_model_module_version": "1.5.0",
            "_model_name": "ProgressStyleModel",
            "_view_count": null,
            "_view_module": "@jupyter-widgets/base",
            "_view_module_version": "1.2.0",
            "_view_name": "StyleView",
            "bar_color": null,
            "description_width": ""
          }
        },
        "8a2c8bbbac8b4f7b8b8b9d7ca28363b1": {
          "model_module": "@jupyter-widgets/base",
          "model_name": "LayoutModel",
          "model_module_version": "1.2.0",
          "state": {
            "_model_module": "@jupyter-widgets/base",
            "_model_module_version": "1.2.0",
            "_model_name": "LayoutModel",
            "_view_count": null,
            "_view_module": "@jupyter-widgets/base",
            "_view_module_version": "1.2.0",
            "_view_name": "LayoutView",
            "align_content": null,
            "align_items": null,
            "align_self": null,
            "border": null,
            "bottom": null,
            "display": null,
            "flex": null,
            "flex_flow": null,
            "grid_area": null,
            "grid_auto_columns": null,
            "grid_auto_flow": null,
            "grid_auto_rows": null,
            "grid_column": null,
            "grid_gap": null,
            "grid_row": null,
            "grid_template_areas": null,
            "grid_template_columns": null,
            "grid_template_rows": null,
            "height": null,
            "justify_content": null,
            "justify_items": null,
            "left": null,
            "margin": null,
            "max_height": null,
            "max_width": null,
            "min_height": null,
            "min_width": null,
            "object_fit": null,
            "object_position": null,
            "order": null,
            "overflow": null,
            "overflow_x": null,
            "overflow_y": null,
            "padding": null,
            "right": null,
            "top": null,
            "visibility": null,
            "width": null
          }
        },
        "096bd785274f4a4ca56d2989db7d0d5a": {
          "model_module": "@jupyter-widgets/controls",
          "model_name": "DescriptionStyleModel",
          "model_module_version": "1.5.0",
          "state": {
            "_model_module": "@jupyter-widgets/controls",
            "_model_module_version": "1.5.0",
            "_model_name": "DescriptionStyleModel",
            "_view_count": null,
            "_view_module": "@jupyter-widgets/base",
            "_view_module_version": "1.2.0",
            "_view_name": "StyleView",
            "description_width": ""
          }
        }
      }
    }
  },
  "cells": [
    {
      "cell_type": "code",
      "execution_count": null,
      "metadata": {
        "id": "2wmxmVzpfPBL"
      },
      "outputs": [],
      "source": [
        "import numpy as np\n",
        "import pandas as pd\n",
        "from sklearn.model_selection import train_test_split\n",
        "from sklearn.pipeline import Pipeline\n",
        "from sklearn.preprocessing import StandardScaler\n",
        "from sklearn.impute import SimpleImputer\n",
        "from sklearn.preprocessing import OrdinalEncoder, OneHotEncoder\n",
        "from sklearn.tree import DecisionTreeRegressor\n",
        "from sklearn.linear_model import LinearRegression\n",
        "from sklearn.ensemble import RandomForestRegressor\n",
        "from sklearn.metrics import mean_absolute_error, mean_squared_error, r2_score\n",
        "from sklearn.model_selection import GridSearchCV, RandomizedSearchCV\n",
        "from scipy import stats\n",
        "import matplotlib.pyplot as plt\n",
        "import seaborn as sn"
      ]
    },
    {
      "cell_type": "code",
      "source": [
        "data = pd.read_csv(\"train.csv\")\n",
        "\n",
        "\n",
        "# data = data.drop(\"tracking_id\",axis=1)\n",
        "# data = data.drop(\"datetime\",axis=1)"
      ],
      "metadata": {
        "id": "yw754iXQxrMx"
      },
      "execution_count": null,
      "outputs": []
    },
    {
      "cell_type": "markdown",
      "source": [
        "DATA VISUALIZATION/AUGMENTATION"
      ],
      "metadata": {
        "id": "UyEAattI5yxO"
      }
    },
    {
      "cell_type": "code",
      "source": [
        "data.describe()"
      ],
      "metadata": {
        "colab": {
          "base_uri": "https://localhost:8080/",
          "height": 338
        },
        "id": "s2M6BVehpvDY",
        "outputId": "14ce75bb-3a13-4b99-ebf3-35866027716c"
      },
      "execution_count": null,
      "outputs": [
        {
          "output_type": "execute_result",
          "data": {
            "text/plain": [
              "       wind_speed(m/s)  atmospheric_temperature(°C)  shaft_temperature(°C)  \\\n",
              "count     27927.000000                 24750.000000           28198.000000   \n",
              "mean         69.037071                     0.383727              40.085387   \n",
              "std          76.275645                    44.278534              27.204430   \n",
              "min        -496.211029                   -99.000000             -99.000000   \n",
              "25%          20.883502                     7.948900              41.633238   \n",
              "50%          93.302129                    16.102410              43.686082   \n",
              "75%          95.268058                    23.687285              45.673685   \n",
              "max         601.455670                    80.217444             169.820455   \n",
              "\n",
              "       blades_angle(°)  gearbox_temperature(°C)  engine_temperature(°C)  \\\n",
              "count     27984.000000             28199.000000            28188.000000   \n",
              "mean         -9.654038                41.027755               42.614239   \n",
              "std          47.918161                43.663605                6.124546   \n",
              "min        -146.259543              -244.974098                3.167151   \n",
              "25%          -1.197652                40.557952               41.911365   \n",
              "50%          -0.495608                43.221735               43.525297   \n",
              "75%           5.495030                45.879425               45.174246   \n",
              "max         165.932123               999.000000               50.000000   \n",
              "\n",
              "       motor_torque(N-m)  generator_temperature(°C)  \\\n",
              "count       28176.000000               28188.000000   \n",
              "mean         1710.819803                  65.027857   \n",
              "std           827.205537                  19.816499   \n",
              "min           500.000000                  33.893779   \n",
              "25%           870.340239                  41.198509   \n",
              "50%          2031.849540                  70.729533   \n",
              "75%          2462.585729                  78.945849   \n",
              "max          3000.000000                 100.000000   \n",
              "\n",
              "       atmospheric_pressure(Pascal)  area_temperature(°C)  \\\n",
              "count                  2.549300e+04          28200.000000   \n",
              "mean                   5.318506e+04             32.735091   \n",
              "std                    1.875036e+05              7.703391   \n",
              "min                   -1.188624e+06            -30.000000   \n",
              "25%                    1.679492e+04             27.311644   \n",
              "50%                    1.819113e+04             32.605195   \n",
              "75%                    1.181133e+05             38.232387   \n",
              "max                    1.272552e+06             55.000000   \n",
              "\n",
              "       windmill_body_temperature(°C)  wind_direction(°)  resistance(ohm)  \\\n",
              "count                   25837.000000       23097.000000     28199.000000   \n",
              "mean                       20.799761         306.888883      1575.560011   \n",
              "std                        54.356431         134.055900       483.326394   \n",
              "min                      -999.000000           0.000000     -1005.222988   \n",
              "25%                        40.448386         238.627752      1268.134043   \n",
              "50%                        42.786832         271.427656      1678.238404   \n",
              "75%                        44.494543         404.153517      1829.054007   \n",
              "max                       323.000000         569.966479      4693.481933   \n",
              "\n",
              "       rotor_torque(N-m)  blade_length(m)  blade_breadth(m)  \\\n",
              "count       27628.000000     23107.000000      28200.000000   \n",
              "mean           25.849894         2.254034          0.397249   \n",
              "std            32.423943        11.275602          0.061158   \n",
              "min          -136.732217       -99.000000          0.200111   \n",
              "25%            13.722808         2.544859          0.347445   \n",
              "50%            32.977192         3.453333          0.398591   \n",
              "75%            41.550520         4.357862          0.449354   \n",
              "max           236.883264        18.209800          0.499975   \n",
              "\n",
              "       windmill_height(m)  windmill_generated_power(kW/h)  \n",
              "count        27657.000000                    27993.000000  \n",
              "mean            25.887052                        6.130529  \n",
              "std              7.773609                        2.697520  \n",
              "min            -30.295253                        0.962305  \n",
              "25%             24.447658                        4.059505  \n",
              "50%             25.957739                        5.764710  \n",
              "75%             27.477854                        7.947195  \n",
              "max             78.351335                       20.175358  "
            ],
            "text/html": [
              "\n",
              "  <div id=\"df-397f575c-8257-4d45-ab9c-8d35855295f6\" class=\"colab-df-container\">\n",
              "    <div>\n",
              "<style scoped>\n",
              "    .dataframe tbody tr th:only-of-type {\n",
              "        vertical-align: middle;\n",
              "    }\n",
              "\n",
              "    .dataframe tbody tr th {\n",
              "        vertical-align: top;\n",
              "    }\n",
              "\n",
              "    .dataframe thead th {\n",
              "        text-align: right;\n",
              "    }\n",
              "</style>\n",
              "<table border=\"1\" class=\"dataframe\">\n",
              "  <thead>\n",
              "    <tr style=\"text-align: right;\">\n",
              "      <th></th>\n",
              "      <th>wind_speed(m/s)</th>\n",
              "      <th>atmospheric_temperature(°C)</th>\n",
              "      <th>shaft_temperature(°C)</th>\n",
              "      <th>blades_angle(°)</th>\n",
              "      <th>gearbox_temperature(°C)</th>\n",
              "      <th>engine_temperature(°C)</th>\n",
              "      <th>motor_torque(N-m)</th>\n",
              "      <th>generator_temperature(°C)</th>\n",
              "      <th>atmospheric_pressure(Pascal)</th>\n",
              "      <th>area_temperature(°C)</th>\n",
              "      <th>windmill_body_temperature(°C)</th>\n",
              "      <th>wind_direction(°)</th>\n",
              "      <th>resistance(ohm)</th>\n",
              "      <th>rotor_torque(N-m)</th>\n",
              "      <th>blade_length(m)</th>\n",
              "      <th>blade_breadth(m)</th>\n",
              "      <th>windmill_height(m)</th>\n",
              "      <th>windmill_generated_power(kW/h)</th>\n",
              "    </tr>\n",
              "  </thead>\n",
              "  <tbody>\n",
              "    <tr>\n",
              "      <th>count</th>\n",
              "      <td>27927.000000</td>\n",
              "      <td>24750.000000</td>\n",
              "      <td>28198.000000</td>\n",
              "      <td>27984.000000</td>\n",
              "      <td>28199.000000</td>\n",
              "      <td>28188.000000</td>\n",
              "      <td>28176.000000</td>\n",
              "      <td>28188.000000</td>\n",
              "      <td>2.549300e+04</td>\n",
              "      <td>28200.000000</td>\n",
              "      <td>25837.000000</td>\n",
              "      <td>23097.000000</td>\n",
              "      <td>28199.000000</td>\n",
              "      <td>27628.000000</td>\n",
              "      <td>23107.000000</td>\n",
              "      <td>28200.000000</td>\n",
              "      <td>27657.000000</td>\n",
              "      <td>27993.000000</td>\n",
              "    </tr>\n",
              "    <tr>\n",
              "      <th>mean</th>\n",
              "      <td>69.037071</td>\n",
              "      <td>0.383727</td>\n",
              "      <td>40.085387</td>\n",
              "      <td>-9.654038</td>\n",
              "      <td>41.027755</td>\n",
              "      <td>42.614239</td>\n",
              "      <td>1710.819803</td>\n",
              "      <td>65.027857</td>\n",
              "      <td>5.318506e+04</td>\n",
              "      <td>32.735091</td>\n",
              "      <td>20.799761</td>\n",
              "      <td>306.888883</td>\n",
              "      <td>1575.560011</td>\n",
              "      <td>25.849894</td>\n",
              "      <td>2.254034</td>\n",
              "      <td>0.397249</td>\n",
              "      <td>25.887052</td>\n",
              "      <td>6.130529</td>\n",
              "    </tr>\n",
              "    <tr>\n",
              "      <th>std</th>\n",
              "      <td>76.275645</td>\n",
              "      <td>44.278534</td>\n",
              "      <td>27.204430</td>\n",
              "      <td>47.918161</td>\n",
              "      <td>43.663605</td>\n",
              "      <td>6.124546</td>\n",
              "      <td>827.205537</td>\n",
              "      <td>19.816499</td>\n",
              "      <td>1.875036e+05</td>\n",
              "      <td>7.703391</td>\n",
              "      <td>54.356431</td>\n",
              "      <td>134.055900</td>\n",
              "      <td>483.326394</td>\n",
              "      <td>32.423943</td>\n",
              "      <td>11.275602</td>\n",
              "      <td>0.061158</td>\n",
              "      <td>7.773609</td>\n",
              "      <td>2.697520</td>\n",
              "    </tr>\n",
              "    <tr>\n",
              "      <th>min</th>\n",
              "      <td>-496.211029</td>\n",
              "      <td>-99.000000</td>\n",
              "      <td>-99.000000</td>\n",
              "      <td>-146.259543</td>\n",
              "      <td>-244.974098</td>\n",
              "      <td>3.167151</td>\n",
              "      <td>500.000000</td>\n",
              "      <td>33.893779</td>\n",
              "      <td>-1.188624e+06</td>\n",
              "      <td>-30.000000</td>\n",
              "      <td>-999.000000</td>\n",
              "      <td>0.000000</td>\n",
              "      <td>-1005.222988</td>\n",
              "      <td>-136.732217</td>\n",
              "      <td>-99.000000</td>\n",
              "      <td>0.200111</td>\n",
              "      <td>-30.295253</td>\n",
              "      <td>0.962305</td>\n",
              "    </tr>\n",
              "    <tr>\n",
              "      <th>25%</th>\n",
              "      <td>20.883502</td>\n",
              "      <td>7.948900</td>\n",
              "      <td>41.633238</td>\n",
              "      <td>-1.197652</td>\n",
              "      <td>40.557952</td>\n",
              "      <td>41.911365</td>\n",
              "      <td>870.340239</td>\n",
              "      <td>41.198509</td>\n",
              "      <td>1.679492e+04</td>\n",
              "      <td>27.311644</td>\n",
              "      <td>40.448386</td>\n",
              "      <td>238.627752</td>\n",
              "      <td>1268.134043</td>\n",
              "      <td>13.722808</td>\n",
              "      <td>2.544859</td>\n",
              "      <td>0.347445</td>\n",
              "      <td>24.447658</td>\n",
              "      <td>4.059505</td>\n",
              "    </tr>\n",
              "    <tr>\n",
              "      <th>50%</th>\n",
              "      <td>93.302129</td>\n",
              "      <td>16.102410</td>\n",
              "      <td>43.686082</td>\n",
              "      <td>-0.495608</td>\n",
              "      <td>43.221735</td>\n",
              "      <td>43.525297</td>\n",
              "      <td>2031.849540</td>\n",
              "      <td>70.729533</td>\n",
              "      <td>1.819113e+04</td>\n",
              "      <td>32.605195</td>\n",
              "      <td>42.786832</td>\n",
              "      <td>271.427656</td>\n",
              "      <td>1678.238404</td>\n",
              "      <td>32.977192</td>\n",
              "      <td>3.453333</td>\n",
              "      <td>0.398591</td>\n",
              "      <td>25.957739</td>\n",
              "      <td>5.764710</td>\n",
              "    </tr>\n",
              "    <tr>\n",
              "      <th>75%</th>\n",
              "      <td>95.268058</td>\n",
              "      <td>23.687285</td>\n",
              "      <td>45.673685</td>\n",
              "      <td>5.495030</td>\n",
              "      <td>45.879425</td>\n",
              "      <td>45.174246</td>\n",
              "      <td>2462.585729</td>\n",
              "      <td>78.945849</td>\n",
              "      <td>1.181133e+05</td>\n",
              "      <td>38.232387</td>\n",
              "      <td>44.494543</td>\n",
              "      <td>404.153517</td>\n",
              "      <td>1829.054007</td>\n",
              "      <td>41.550520</td>\n",
              "      <td>4.357862</td>\n",
              "      <td>0.449354</td>\n",
              "      <td>27.477854</td>\n",
              "      <td>7.947195</td>\n",
              "    </tr>\n",
              "    <tr>\n",
              "      <th>max</th>\n",
              "      <td>601.455670</td>\n",
              "      <td>80.217444</td>\n",
              "      <td>169.820455</td>\n",
              "      <td>165.932123</td>\n",
              "      <td>999.000000</td>\n",
              "      <td>50.000000</td>\n",
              "      <td>3000.000000</td>\n",
              "      <td>100.000000</td>\n",
              "      <td>1.272552e+06</td>\n",
              "      <td>55.000000</td>\n",
              "      <td>323.000000</td>\n",
              "      <td>569.966479</td>\n",
              "      <td>4693.481933</td>\n",
              "      <td>236.883264</td>\n",
              "      <td>18.209800</td>\n",
              "      <td>0.499975</td>\n",
              "      <td>78.351335</td>\n",
              "      <td>20.175358</td>\n",
              "    </tr>\n",
              "  </tbody>\n",
              "</table>\n",
              "</div>\n",
              "    <div class=\"colab-df-buttons\">\n",
              "\n",
              "  <div class=\"colab-df-container\">\n",
              "    <button class=\"colab-df-convert\" onclick=\"convertToInteractive('df-397f575c-8257-4d45-ab9c-8d35855295f6')\"\n",
              "            title=\"Convert this dataframe to an interactive table.\"\n",
              "            style=\"display:none;\">\n",
              "\n",
              "  <svg xmlns=\"http://www.w3.org/2000/svg\" height=\"24px\" viewBox=\"0 -960 960 960\">\n",
              "    <path d=\"M120-120v-720h720v720H120Zm60-500h600v-160H180v160Zm220 220h160v-160H400v160Zm0 220h160v-160H400v160ZM180-400h160v-160H180v160Zm440 0h160v-160H620v160ZM180-180h160v-160H180v160Zm440 0h160v-160H620v160Z\"/>\n",
              "  </svg>\n",
              "    </button>\n",
              "\n",
              "  <style>\n",
              "    .colab-df-container {\n",
              "      display:flex;\n",
              "      gap: 12px;\n",
              "    }\n",
              "\n",
              "    .colab-df-convert {\n",
              "      background-color: #E8F0FE;\n",
              "      border: none;\n",
              "      border-radius: 50%;\n",
              "      cursor: pointer;\n",
              "      display: none;\n",
              "      fill: #1967D2;\n",
              "      height: 32px;\n",
              "      padding: 0 0 0 0;\n",
              "      width: 32px;\n",
              "    }\n",
              "\n",
              "    .colab-df-convert:hover {\n",
              "      background-color: #E2EBFA;\n",
              "      box-shadow: 0px 1px 2px rgba(60, 64, 67, 0.3), 0px 1px 3px 1px rgba(60, 64, 67, 0.15);\n",
              "      fill: #174EA6;\n",
              "    }\n",
              "\n",
              "    .colab-df-buttons div {\n",
              "      margin-bottom: 4px;\n",
              "    }\n",
              "\n",
              "    [theme=dark] .colab-df-convert {\n",
              "      background-color: #3B4455;\n",
              "      fill: #D2E3FC;\n",
              "    }\n",
              "\n",
              "    [theme=dark] .colab-df-convert:hover {\n",
              "      background-color: #434B5C;\n",
              "      box-shadow: 0px 1px 3px 1px rgba(0, 0, 0, 0.15);\n",
              "      filter: drop-shadow(0px 1px 2px rgba(0, 0, 0, 0.3));\n",
              "      fill: #FFFFFF;\n",
              "    }\n",
              "  </style>\n",
              "\n",
              "    <script>\n",
              "      const buttonEl =\n",
              "        document.querySelector('#df-397f575c-8257-4d45-ab9c-8d35855295f6 button.colab-df-convert');\n",
              "      buttonEl.style.display =\n",
              "        google.colab.kernel.accessAllowed ? 'block' : 'none';\n",
              "\n",
              "      async function convertToInteractive(key) {\n",
              "        const element = document.querySelector('#df-397f575c-8257-4d45-ab9c-8d35855295f6');\n",
              "        const dataTable =\n",
              "          await google.colab.kernel.invokeFunction('convertToInteractive',\n",
              "                                                    [key], {});\n",
              "        if (!dataTable) return;\n",
              "\n",
              "        const docLinkHtml = 'Like what you see? Visit the ' +\n",
              "          '<a target=\"_blank\" href=https://colab.research.google.com/notebooks/data_table.ipynb>data table notebook</a>'\n",
              "          + ' to learn more about interactive tables.';\n",
              "        element.innerHTML = '';\n",
              "        dataTable['output_type'] = 'display_data';\n",
              "        await google.colab.output.renderOutput(dataTable, element);\n",
              "        const docLink = document.createElement('div');\n",
              "        docLink.innerHTML = docLinkHtml;\n",
              "        element.appendChild(docLink);\n",
              "      }\n",
              "    </script>\n",
              "  </div>\n",
              "\n",
              "\n",
              "<div id=\"df-a9363b46-ae08-4661-a746-5e17deefe0c2\">\n",
              "  <button class=\"colab-df-quickchart\" onclick=\"quickchart('df-a9363b46-ae08-4661-a746-5e17deefe0c2')\"\n",
              "            title=\"Suggest charts\"\n",
              "            style=\"display:none;\">\n",
              "\n",
              "<svg xmlns=\"http://www.w3.org/2000/svg\" height=\"24px\"viewBox=\"0 0 24 24\"\n",
              "     width=\"24px\">\n",
              "    <g>\n",
              "        <path d=\"M19 3H5c-1.1 0-2 .9-2 2v14c0 1.1.9 2 2 2h14c1.1 0 2-.9 2-2V5c0-1.1-.9-2-2-2zM9 17H7v-7h2v7zm4 0h-2V7h2v10zm4 0h-2v-4h2v4z\"/>\n",
              "    </g>\n",
              "</svg>\n",
              "  </button>\n",
              "\n",
              "<style>\n",
              "  .colab-df-quickchart {\n",
              "      --bg-color: #E8F0FE;\n",
              "      --fill-color: #1967D2;\n",
              "      --hover-bg-color: #E2EBFA;\n",
              "      --hover-fill-color: #174EA6;\n",
              "      --disabled-fill-color: #AAA;\n",
              "      --disabled-bg-color: #DDD;\n",
              "  }\n",
              "\n",
              "  [theme=dark] .colab-df-quickchart {\n",
              "      --bg-color: #3B4455;\n",
              "      --fill-color: #D2E3FC;\n",
              "      --hover-bg-color: #434B5C;\n",
              "      --hover-fill-color: #FFFFFF;\n",
              "      --disabled-bg-color: #3B4455;\n",
              "      --disabled-fill-color: #666;\n",
              "  }\n",
              "\n",
              "  .colab-df-quickchart {\n",
              "    background-color: var(--bg-color);\n",
              "    border: none;\n",
              "    border-radius: 50%;\n",
              "    cursor: pointer;\n",
              "    display: none;\n",
              "    fill: var(--fill-color);\n",
              "    height: 32px;\n",
              "    padding: 0;\n",
              "    width: 32px;\n",
              "  }\n",
              "\n",
              "  .colab-df-quickchart:hover {\n",
              "    background-color: var(--hover-bg-color);\n",
              "    box-shadow: 0 1px 2px rgba(60, 64, 67, 0.3), 0 1px 3px 1px rgba(60, 64, 67, 0.15);\n",
              "    fill: var(--button-hover-fill-color);\n",
              "  }\n",
              "\n",
              "  .colab-df-quickchart-complete:disabled,\n",
              "  .colab-df-quickchart-complete:disabled:hover {\n",
              "    background-color: var(--disabled-bg-color);\n",
              "    fill: var(--disabled-fill-color);\n",
              "    box-shadow: none;\n",
              "  }\n",
              "\n",
              "  .colab-df-spinner {\n",
              "    border: 2px solid var(--fill-color);\n",
              "    border-color: transparent;\n",
              "    border-bottom-color: var(--fill-color);\n",
              "    animation:\n",
              "      spin 1s steps(1) infinite;\n",
              "  }\n",
              "\n",
              "  @keyframes spin {\n",
              "    0% {\n",
              "      border-color: transparent;\n",
              "      border-bottom-color: var(--fill-color);\n",
              "      border-left-color: var(--fill-color);\n",
              "    }\n",
              "    20% {\n",
              "      border-color: transparent;\n",
              "      border-left-color: var(--fill-color);\n",
              "      border-top-color: var(--fill-color);\n",
              "    }\n",
              "    30% {\n",
              "      border-color: transparent;\n",
              "      border-left-color: var(--fill-color);\n",
              "      border-top-color: var(--fill-color);\n",
              "      border-right-color: var(--fill-color);\n",
              "    }\n",
              "    40% {\n",
              "      border-color: transparent;\n",
              "      border-right-color: var(--fill-color);\n",
              "      border-top-color: var(--fill-color);\n",
              "    }\n",
              "    60% {\n",
              "      border-color: transparent;\n",
              "      border-right-color: var(--fill-color);\n",
              "    }\n",
              "    80% {\n",
              "      border-color: transparent;\n",
              "      border-right-color: var(--fill-color);\n",
              "      border-bottom-color: var(--fill-color);\n",
              "    }\n",
              "    90% {\n",
              "      border-color: transparent;\n",
              "      border-bottom-color: var(--fill-color);\n",
              "    }\n",
              "  }\n",
              "</style>\n",
              "\n",
              "  <script>\n",
              "    async function quickchart(key) {\n",
              "      const quickchartButtonEl =\n",
              "        document.querySelector('#' + key + ' button');\n",
              "      quickchartButtonEl.disabled = true;  // To prevent multiple clicks.\n",
              "      quickchartButtonEl.classList.add('colab-df-spinner');\n",
              "      try {\n",
              "        const charts = await google.colab.kernel.invokeFunction(\n",
              "            'suggestCharts', [key], {});\n",
              "      } catch (error) {\n",
              "        console.error('Error during call to suggestCharts:', error);\n",
              "      }\n",
              "      quickchartButtonEl.classList.remove('colab-df-spinner');\n",
              "      quickchartButtonEl.classList.add('colab-df-quickchart-complete');\n",
              "    }\n",
              "    (() => {\n",
              "      let quickchartButtonEl =\n",
              "        document.querySelector('#df-a9363b46-ae08-4661-a746-5e17deefe0c2 button');\n",
              "      quickchartButtonEl.style.display =\n",
              "        google.colab.kernel.accessAllowed ? 'block' : 'none';\n",
              "    })();\n",
              "  </script>\n",
              "</div>\n",
              "\n",
              "    </div>\n",
              "  </div>\n"
            ],
            "application/vnd.google.colaboratory.intrinsic+json": {
              "type": "dataframe",
              "summary": "{\n  \"name\": \"data\",\n  \"rows\": 8,\n  \"fields\": [\n    {\n      \"column\": \"wind_speed(m/s)\",\n      \"properties\": {\n        \"dtype\": \"number\",\n        \"std\": 9854.84873619358,\n        \"min\": -496.2110288895765,\n        \"max\": 27927.0,\n        \"num_unique_values\": 8,\n        \"samples\": [\n          69.03707138529694,\n          93.30212921306588,\n          27927.0\n        ],\n        \"semantic_type\": \"\",\n        \"description\": \"\"\n      }\n    },\n    {\n      \"column\": \"atmospheric_temperature(\\u00b0C)\",\n      \"properties\": {\n        \"dtype\": \"number\",\n        \"std\": 8746.877622059319,\n        \"min\": -99.0,\n        \"max\": 24750.0,\n        \"num_unique_values\": 8,\n        \"samples\": [\n          0.3837270704975735,\n          16.102410348693198,\n          24750.0\n        ],\n        \"semantic_type\": \"\",\n        \"description\": \"\"\n      }\n    },\n    {\n      \"column\": \"shaft_temperature(\\u00b0C)\",\n      \"properties\": {\n        \"dtype\": \"number\",\n        \"std\": 9956.16766972921,\n        \"min\": -99.0,\n        \"max\": 28198.0,\n        \"num_unique_values\": 8,\n        \"samples\": [\n          40.085386712370976,\n          43.68608192545875,\n          28198.0\n        ],\n        \"semantic_type\": \"\",\n        \"description\": \"\"\n      }\n    },\n    {\n      \"column\": \"blades_angle(\\u00b0)\",\n      \"properties\": {\n        \"dtype\": \"number\",\n        \"std\": 9891.086692600584,\n        \"min\": -146.25954269548714,\n        \"max\": 27984.0,\n        \"num_unique_values\": 8,\n        \"samples\": [\n          -9.654038031619764,\n          -0.4956079047522478,\n          27984.0\n        ],\n        \"semantic_type\": \"\",\n        \"description\": \"\"\n      }\n    },\n    {\n      \"column\": \"gearbox_temperature(\\u00b0C)\",\n      \"properties\": {\n        \"dtype\": \"number\",\n        \"std\": 9927.65863286724,\n        \"min\": -244.9740978349033,\n        \"max\": 28199.0,\n        \"num_unique_values\": 8,\n        \"samples\": [\n          41.02775488085647,\n          43.22173481195493,\n          28199.0\n        ],\n        \"semantic_type\": \"\",\n        \"description\": \"\"\n      }\n    },\n    {\n      \"column\": \"engine_temperature(\\u00b0C)\",\n      \"properties\": {\n        \"dtype\": \"number\",\n        \"std\": 9954.235832351082,\n        \"min\": 3.167151020862013,\n        \"max\": 28188.0,\n        \"num_unique_values\": 8,\n        \"samples\": [\n          42.614238563100834,\n          43.52529653458639,\n          28188.0\n        ],\n        \"semantic_type\": \"\",\n        \"description\": \"\"\n      }\n    },\n    {\n      \"column\": \"motor_torque(N-m)\",\n      \"properties\": {\n        \"dtype\": \"number\",\n        \"std\": 9425.559460414246,\n        \"min\": 500.0,\n        \"max\": 28176.0,\n        \"num_unique_values\": 8,\n        \"samples\": [\n          1710.8198030472688,\n          2031.8495401356888,\n          28176.0\n        ],\n        \"semantic_type\": \"\",\n        \"description\": \"\"\n      }\n    },\n    {\n      \"column\": \"generator_temperature(\\u00b0C)\",\n      \"properties\": {\n        \"dtype\": \"number\",\n        \"std\": 9945.308440489316,\n        \"min\": 19.816499494605008,\n        \"max\": 28188.0,\n        \"num_unique_values\": 8,\n        \"samples\": [\n          65.02785702351979,\n          70.72953276085298,\n          28188.0\n        ],\n        \"semantic_type\": \"\",\n        \"description\": \"\"\n      }\n    },\n    {\n      \"column\": \"atmospheric_pressure(Pascal)\",\n      \"properties\": {\n        \"dtype\": \"number\",\n        \"std\": 660493.6630945465,\n        \"min\": -1188624.1314124365,\n        \"max\": 1272551.8952618127,\n        \"num_unique_values\": 8,\n        \"samples\": [\n          53185.06488259971,\n          18191.125867472405,\n          25493.0\n        ],\n        \"semantic_type\": \"\",\n        \"description\": \"\"\n      }\n    },\n    {\n      \"column\": \"area_temperature(\\u00b0C)\",\n      \"properties\": {\n        \"dtype\": \"number\",\n        \"std\": 9961.975479744742,\n        \"min\": -30.0,\n        \"max\": 28200.0,\n        \"num_unique_values\": 8,\n        \"samples\": [\n          32.735091001843216,\n          32.60519501072704,\n          28200.0\n        ],\n        \"semantic_type\": \"\",\n        \"description\": \"\"\n      }\n    },\n    {\n      \"column\": \"windmill_body_temperature(\\u00b0C)\",\n      \"properties\": {\n        \"dtype\": \"number\",\n        \"std\": 9167.067563344324,\n        \"min\": -999.0,\n        \"max\": 25837.0,\n        \"num_unique_values\": 8,\n        \"samples\": [\n          20.799760568237446,\n          42.78683182133834,\n          25837.0\n        ],\n        \"semantic_type\": \"\",\n        \"description\": \"\"\n      }\n    },\n    {\n      \"column\": \"wind_direction(\\u00b0)\",\n      \"properties\": {\n        \"dtype\": \"number\",\n        \"std\": 8070.573235677858,\n        \"min\": 0.0,\n        \"max\": 23097.0,\n        \"num_unique_values\": 8,\n        \"samples\": [\n          306.88888296931486,\n          271.42765557223527,\n          23097.0\n        ],\n        \"semantic_type\": \"\",\n        \"description\": \"\"\n      }\n    },\n    {\n      \"column\": \"resistance(ohm)\",\n      \"properties\": {\n        \"dtype\": \"number\",\n        \"std\": 9571.452434520439,\n        \"min\": -1005.2229882601667,\n        \"max\": 28199.0,\n        \"num_unique_values\": 8,\n        \"samples\": [\n          1575.5600114929664,\n          1678.2384041252817,\n          28199.0\n        ],\n        \"semantic_type\": \"\",\n        \"description\": \"\"\n      }\n    },\n    {\n      \"column\": \"rotor_torque(N-m)\",\n      \"properties\": {\n        \"dtype\": \"number\",\n        \"std\": 9756.032742140233,\n        \"min\": -136.73221690705603,\n        \"max\": 27628.0,\n        \"num_unique_values\": 8,\n        \"samples\": [\n          25.84989405116108,\n          32.97719178011148,\n          27628.0\n        ],\n        \"semantic_type\": \"\",\n        \"description\": \"\"\n      }\n    },\n    {\n      \"column\": \"blade_length(m)\",\n      \"properties\": {\n        \"dtype\": \"number\",\n        \"std\": 8172.51830782515,\n        \"min\": -99.0,\n        \"max\": 23107.0,\n        \"num_unique_values\": 8,\n        \"samples\": [\n          2.2540342854612474,\n          3.453333243841766,\n          23107.0\n        ],\n        \"semantic_type\": \"\",\n        \"description\": \"\"\n      }\n    },\n    {\n      \"column\": \"blade_breadth(m)\",\n      \"properties\": {\n        \"dtype\": \"number\",\n        \"std\": 9970.086726653897,\n        \"min\": 0.06115832914638065,\n        \"max\": 28200.0,\n        \"num_unique_values\": 8,\n        \"samples\": [\n          0.39724871513659743,\n          0.39859103487005676,\n          28200.0\n        ],\n        \"semantic_type\": \"\",\n        \"description\": \"\"\n      }\n    },\n    {\n      \"column\": \"windmill_height(m)\",\n      \"properties\": {\n        \"dtype\": \"number\",\n        \"std\": 9770.210250831145,\n        \"min\": -30.295252920580417,\n        \"max\": 27657.0,\n        \"num_unique_values\": 8,\n        \"samples\": [\n          25.88705207574248,\n          25.95773931956077,\n          27657.0\n        ],\n        \"semantic_type\": \"\",\n        \"description\": \"\"\n      }\n    },\n    {\n      \"column\": \"windmill_generated_power(kW/h)\",\n      \"properties\": {\n        \"dtype\": \"number\",\n        \"std\": 9894.61070771814,\n        \"min\": 0.9623049455000005,\n        \"max\": 27993.0,\n        \"num_unique_values\": 8,\n        \"samples\": [\n          6.130529296125692,\n          5.76471034736842,\n          27993.0\n        ],\n        \"semantic_type\": \"\",\n        \"description\": \"\"\n      }\n    }\n  ]\n}"
            }
          },
          "metadata": {},
          "execution_count": 5
        }
      ]
    },
    {
      "cell_type": "code",
      "source": [
        "data.info()"
      ],
      "metadata": {
        "colab": {
          "base_uri": "https://localhost:8080/"
        },
        "id": "EaQ801TSzvl7",
        "outputId": "0a813a29-7b17-40f6-cb12-1fecb3344c48"
      },
      "execution_count": null,
      "outputs": [
        {
          "output_type": "stream",
          "name": "stdout",
          "text": [
            "<class 'pandas.core.frame.DataFrame'>\n",
            "RangeIndex: 28200 entries, 0 to 28199\n",
            "Data columns (total 22 columns):\n",
            " #   Column                          Non-Null Count  Dtype  \n",
            "---  ------                          --------------  -----  \n",
            " 0   tracking_id                     28200 non-null  object \n",
            " 1   datetime                        28200 non-null  object \n",
            " 2   wind_speed(m/s)                 27927 non-null  float64\n",
            " 3   atmospheric_temperature(°C)     24750 non-null  float64\n",
            " 4   shaft_temperature(°C)           28198 non-null  float64\n",
            " 5   blades_angle(°)                 27984 non-null  float64\n",
            " 6   gearbox_temperature(°C)         28199 non-null  float64\n",
            " 7   engine_temperature(°C)          28188 non-null  float64\n",
            " 8   motor_torque(N-m)               28176 non-null  float64\n",
            " 9   generator_temperature(°C)       28188 non-null  float64\n",
            " 10  atmospheric_pressure(Pascal)    25493 non-null  float64\n",
            " 11  area_temperature(°C)            28200 non-null  float64\n",
            " 12  windmill_body_temperature(°C)   25837 non-null  float64\n",
            " 13  wind_direction(°)               23097 non-null  float64\n",
            " 14  resistance(ohm)                 28199 non-null  float64\n",
            " 15  rotor_torque(N-m)               27628 non-null  float64\n",
            " 16  turbine_status                  26441 non-null  object \n",
            " 17  cloud_level                     27924 non-null  object \n",
            " 18  blade_length(m)                 23107 non-null  float64\n",
            " 19  blade_breadth(m)                28200 non-null  float64\n",
            " 20  windmill_height(m)              27657 non-null  float64\n",
            " 21  windmill_generated_power(kW/h)  27993 non-null  float64\n",
            "dtypes: float64(18), object(4)\n",
            "memory usage: 4.7+ MB\n"
          ]
        }
      ]
    },
    {
      "cell_type": "markdown",
      "source": [
        "we first drop the tracking ID and date time as those value is for reporting only, date time would need weather history data  which we dont have.<br>\n",
        "\n",
        "\n"
      ],
      "metadata": {
        "id": "6QSjGsgB7h16"
      }
    },
    {
      "cell_type": "code",
      "source": [
        "data = data.drop(\"tracking_id\",axis=1)\n",
        "data = data.drop(\"datetime\",axis=1)"
      ],
      "metadata": {
        "id": "PDKWW3_EEQIh"
      },
      "execution_count": null,
      "outputs": []
    },
    {
      "cell_type": "markdown",
      "source": [
        "most of the rest numerical, but two variables are categorical values that need to be convert to number."
      ],
      "metadata": {
        "id": "yzgF4idn72-T"
      }
    },
    {
      "cell_type": "code",
      "source": [
        "\n",
        "\n",
        "#turn 2 categorical into numerical\n",
        "data['cloud_level'].replace(['Extremely Low', 'Low', 'Medium'],\n",
        "                        [-1,0, 1], inplace=True)\n",
        "\n",
        "\n"
      ],
      "metadata": {
        "id": "TCYTiR99UveD"
      },
      "execution_count": null,
      "outputs": []
    },
    {
      "cell_type": "code",
      "source": [
        "\n",
        "data['turbine_status'].replace(['A', 'A2', 'AAA', 'AB', 'ABC', 'AC', 'B', 'B2', 'BA', 'BB', 'BBB', 'BCB', 'BD', 'D'],\n",
        "                      [1,2,3,4,5,6,7,8,9,10,11,12,13,14], inplace=True)\n",
        "#this will not work properly in training because it makes the status have order from low to high,\n",
        "\n",
        "#using one hot encoding later after fill the nan to indicate nominal\n",
        "\n"
      ],
      "metadata": {
        "id": "TZmpuDuxM0nX"
      },
      "execution_count": null,
      "outputs": []
    },
    {
      "cell_type": "markdown",
      "source": [
        "fill nan value in every column"
      ],
      "metadata": {
        "id": "dC-ETUnC-rXT"
      }
    },
    {
      "cell_type": "code",
      "source": [
        "#every column except turbine status and cloud level\n",
        "for col in data.columns:\n",
        "  if col != \"turbine_status\" and col != \"cloud_level\":\n",
        "    data[col].fillna(int(data[col].mean()), inplace=True)\n",
        "#fill turbine status and cloud level with the middle value in the value set\n",
        "data['cloud_level'] = data['cloud_level'].fillna(0)\n",
        "data['turbine_status'] = data['turbine_status'].fillna(value=7)\n"
      ],
      "metadata": {
        "id": "melut16D6za-"
      },
      "execution_count": null,
      "outputs": []
    },
    {
      "cell_type": "markdown",
      "source": [
        "now we show correlation among the columns"
      ],
      "metadata": {
        "id": "qiB-GA9-Eqbm"
      }
    },
    {
      "cell_type": "code",
      "source": [
        "sn.heatmap(data.corr(),annot=False)"
      ],
      "metadata": {
        "colab": {
          "base_uri": "https://localhost:8080/",
          "height": 671
        },
        "id": "X2r32yoiExIH",
        "outputId": "c08e332b-4461-45bd-a041-d1af8c028797"
      },
      "execution_count": null,
      "outputs": [
        {
          "output_type": "execute_result",
          "data": {
            "text/plain": [
              "<Axes: >"
            ]
          },
          "metadata": {},
          "execution_count": 11
        },
        {
          "output_type": "display_data",
          "data": {
            "text/plain": [
              "<Figure size 640x480 with 2 Axes>"
            ],
            "image/png": "[encoded data removed]"
          },
          "metadata": {}
        }
      ]
    },
    {
      "cell_type": "markdown",
      "source": [
        "from the heatmap we can spot the squares with high correlation.<br>\n",
        "to better understand the correlation among the features, we can use Variance Inflation Factor(VIF)<br>\n",
        "VIF is a measure used to assess multicollinearity in regression analysis. Multicollinearity occurs when independent variables in a regression model are highly correlated with each other."
      ],
      "metadata": {
        "id": "zInEULqfBqFd"
      }
    },
    {
      "cell_type": "code",
      "source": [
        "from statsmodels.stats.outliers_influence import variance_inflation_factor\n",
        "vif = pd.DataFrame()\n",
        "vif[\"variables\"] = data.columns\n",
        "vif[\"VIF_Values\"] = [variance_inflation_factor(data.values, i) for i in range(data.shape[1])]\n",
        "print(vif)"
      ],
      "metadata": {
        "colab": {
          "base_uri": "https://localhost:8080/"
        },
        "id": "uxaZjEkTE4UL",
        "outputId": "8418759e-03f5-4a73-eaa6-7fdaf09138d5"
      },
      "execution_count": null,
      "outputs": [
        {
          "output_type": "stream",
          "name": "stdout",
          "text": [
            "                         variables  VIF_Values\n",
            "0                  wind_speed(m/s)    2.262907\n",
            "1      atmospheric_temperature(°C)    1.013613\n",
            "2            shaft_temperature(°C)    3.312380\n",
            "3                  blades_angle(°)    1.135763\n",
            "4          gearbox_temperature(°C)    1.918789\n",
            "5           engine_temperature(°C)   47.854620\n",
            "6                motor_torque(N-m)   51.017400\n",
            "7        generator_temperature(°C)  118.435783\n",
            "8     atmospheric_pressure(Pascal)    1.151777\n",
            "9             area_temperature(°C)   28.367447\n",
            "10   windmill_body_temperature(°C)    1.168927\n",
            "11               wind_direction(°)    8.215546\n",
            "12                 resistance(ohm)   16.026134\n",
            "13               rotor_torque(N-m)    1.939325\n",
            "14                  turbine_status    4.512613\n",
            "15                     cloud_level    1.867126\n",
            "16                 blade_length(m)    1.047410\n",
            "17                blade_breadth(m)   29.534349\n",
            "18              windmill_height(m)   11.272570\n",
            "19  windmill_generated_power(kW/h)   10.607691\n"
          ]
        }
      ]
    },
    {
      "cell_type": "markdown",
      "source": [
        "drop columns with VIF higher than 10(except the target) and show heatmap after"
      ],
      "metadata": {
        "id": "kFsbmjAAFHwY"
      }
    },
    {
      "cell_type": "code",
      "source": [
        "data = data.drop(['engine_temperature(°C)','motor_torque(N-m)','generator_temperature(°C)','area_temperature(°C)','resistance(ohm)','blade_breadth(m)','windmill_height(m)'],axis=1)\n",
        "sn.heatmap(data.corr(),annot=False)#7"
      ],
      "metadata": {
        "colab": {
          "base_uri": "https://localhost:8080/",
          "height": 671
        },
        "id": "SBpucNLnFY05",
        "outputId": "72e958a7-691f-49a5-8b56-efaa544e0098"
      },
      "execution_count": null,
      "outputs": [
        {
          "output_type": "execute_result",
          "data": {
            "text/plain": [
              "<Axes: >"
            ]
          },
          "metadata": {},
          "execution_count": 13
        },
        {
          "output_type": "display_data",
          "data": {
            "text/plain": [
              "<Figure size 640x480 with 2 Axes>"
            ],
            "image/png": "[encoded data removed]"
          },
          "metadata": {}
        }
      ]
    },
    {
      "cell_type": "code",
      "source": [
        "data.info()"
      ],
      "metadata": {
        "colab": {
          "base_uri": "https://localhost:8080/"
        },
        "id": "OKZFdNC2R3eD",
        "outputId": "7b139eef-d286-42c5-e739-6c9dbc89d74e"
      },
      "execution_count": null,
      "outputs": [
        {
          "output_type": "stream",
          "name": "stdout",
          "text": [
            "<class 'pandas.core.frame.DataFrame'>\n",
            "RangeIndex: 28200 entries, 0 to 28199\n",
            "Data columns (total 13 columns):\n",
            " #   Column                          Non-Null Count  Dtype  \n",
            "---  ------                          --------------  -----  \n",
            " 0   wind_speed(m/s)                 28200 non-null  float64\n",
            " 1   atmospheric_temperature(°C)     28200 non-null  float64\n",
            " 2   shaft_temperature(°C)           28200 non-null  float64\n",
            " 3   blades_angle(°)                 28200 non-null  float64\n",
            " 4   gearbox_temperature(°C)         28200 non-null  float64\n",
            " 5   atmospheric_pressure(Pascal)    28200 non-null  float64\n",
            " 6   windmill_body_temperature(°C)   28200 non-null  float64\n",
            " 7   wind_direction(°)               28200 non-null  float64\n",
            " 8   rotor_torque(N-m)               28200 non-null  float64\n",
            " 9   turbine_status                  28200 non-null  float64\n",
            " 10  cloud_level                     28200 non-null  float64\n",
            " 11  blade_length(m)                 28200 non-null  float64\n",
            " 12  windmill_generated_power(kW/h)  28200 non-null  float64\n",
            "dtypes: float64(13)\n",
            "memory usage: 2.8 MB\n"
          ]
        }
      ]
    },
    {
      "cell_type": "markdown",
      "source": [
        "now we move to outliers(min and max)<br>\n",
        "first show the min and max values for each column. then manually removes rows that have those value"
      ],
      "metadata": {
        "id": "tQSCVLhQGAOY"
      }
    },
    {
      "cell_type": "code",
      "source": [
        "for col in data.columns:\n",
        "  print(\"min {}: {}\".format(col,data[col].min()))\n",
        "print(\"\\n\")\n",
        "for col in data.columns:\n",
        "  print(\"max {}: {}\".format(col,data[col].max()))"
      ],
      "metadata": {
        "colab": {
          "base_uri": "https://localhost:8080/"
        },
        "id": "3pY309dyGWR4",
        "outputId": "4448456d-c57b-4d9f-ee56-801aba4b0658"
      },
      "execution_count": null,
      "outputs": [
        {
          "output_type": "stream",
          "name": "stdout",
          "text": [
            "min wind_speed(m/s): -496.2110288895765\n",
            "min atmospheric_temperature(°C): -99.0\n",
            "min shaft_temperature(°C): -99.0\n",
            "min blades_angle(°): -146.25954269548714\n",
            "min gearbox_temperature(°C): -244.9740978349033\n",
            "min atmospheric_pressure(Pascal): -1188624.1314124365\n",
            "min windmill_body_temperature(°C): -999.0\n",
            "min wind_direction(°): 0.0\n",
            "min rotor_torque(N-m): -136.73221690705603\n",
            "min turbine_status: 1.0\n",
            "min cloud_level: -1.0\n",
            "min blade_length(m): -99.0\n",
            "min windmill_generated_power(kW/h): 0.9623049455000005\n",
            "\n",
            "\n",
            "max wind_speed(m/s): 601.4556703619595\n",
            "max atmospheric_temperature(°C): 80.2174435198848\n",
            "max shaft_temperature(°C): 169.8204551155426\n",
            "max blades_angle(°): 165.93212322658664\n",
            "max gearbox_temperature(°C): 999.0\n",
            "max atmospheric_pressure(Pascal): 1272551.8952618127\n",
            "max windmill_body_temperature(°C): 323.0\n",
            "max wind_direction(°): 569.9664787747236\n",
            "max rotor_torque(N-m): 236.88326419901017\n",
            "max turbine_status: 14.0\n",
            "max cloud_level: 1.0\n",
            "max blade_length(m): 18.209800144412974\n",
            "max windmill_generated_power(kW/h): 20.17535791666668\n"
          ]
        }
      ]
    },
    {
      "cell_type": "markdown",
      "source": [
        "remove the outliers value where they have 99 or 999"
      ],
      "metadata": {
        "id": "yiJUZzLpG828"
      }
    },
    {
      "cell_type": "code",
      "source": [
        "data = data[data['atmospheric_temperature(°C)'] != -99]#8\n",
        "\n",
        "data = data[data['windmill_body_temperature(°C)'] != -99]\n",
        "data = data[data['windmill_body_temperature(°C)'] != -999]\n",
        "data = data[data['windmill_body_temperature(°C)'] != -100.2688756]\n",
        "\n",
        "data = data[data['shaft_temperature(°C)'] != -99]\n",
        "data = data[data['blade_length(m)'] != -99]\n",
        "\n",
        "data = data[data['gearbox_temperature(°C)'] != 999]\n",
        "data = data[data['atmospheric_pressure(Pascal)'] != -1021641.598734536]\n"
      ],
      "metadata": {
        "id": "garJ6VRhGWUv"
      },
      "execution_count": null,
      "outputs": []
    },
    {
      "cell_type": "code",
      "source": [
        "#working on outliers, eliminate anything with z score >3, meaning anything too far outside the normal distribution\n",
        "data=data[(np.abs(stats.zscore(data)) < 3).all(axis=1)]\n"
      ],
      "metadata": {
        "id": "gcqMiNKldHkJ"
      },
      "execution_count": null,
      "outputs": []
    },
    {
      "cell_type": "code",
      "source": [
        "data.info()"
      ],
      "metadata": {
        "colab": {
          "base_uri": "https://localhost:8080/"
        },
        "id": "2sji0Sy3GWcH",
        "outputId": "e503423e-ccde-4be7-f365-e2b36a606246"
      },
      "execution_count": null,
      "outputs": [
        {
          "output_type": "stream",
          "name": "stdout",
          "text": [
            "<class 'pandas.core.frame.DataFrame'>\n",
            "Int64Index: 17112 entries, 2 to 28199\n",
            "Data columns (total 13 columns):\n",
            " #   Column                          Non-Null Count  Dtype  \n",
            "---  ------                          --------------  -----  \n",
            " 0   wind_speed(m/s)                 17112 non-null  float64\n",
            " 1   atmospheric_temperature(°C)     17112 non-null  float64\n",
            " 2   shaft_temperature(°C)           17112 non-null  float64\n",
            " 3   blades_angle(°)                 17112 non-null  float64\n",
            " 4   gearbox_temperature(°C)         17112 non-null  float64\n",
            " 5   atmospheric_pressure(Pascal)    17112 non-null  float64\n",
            " 6   windmill_body_temperature(°C)   17112 non-null  float64\n",
            " 7   wind_direction(°)               17112 non-null  float64\n",
            " 8   rotor_torque(N-m)               17112 non-null  float64\n",
            " 9   turbine_status                  17112 non-null  float64\n",
            " 10  cloud_level                     17112 non-null  float64\n",
            " 11  blade_length(m)                 17112 non-null  float64\n",
            " 12  windmill_generated_power(kW/h)  17112 non-null  float64\n",
            "dtypes: float64(13)\n",
            "memory usage: 1.8 MB\n"
          ]
        }
      ]
    },
    {
      "cell_type": "code",
      "source": [],
      "metadata": {
        "id": "tTMS9sEUGWi1"
      },
      "execution_count": null,
      "outputs": []
    },
    {
      "cell_type": "markdown",
      "source": [
        "turbine nominal"
      ],
      "metadata": {
        "id": "VD55mGawOW0t"
      }
    },
    {
      "cell_type": "code",
      "source": [
        "one_hot = pd.get_dummies(data['turbine_status'])\n",
        "data = data.drop('turbine_status',axis = 1)\n",
        "data = pd.concat([data, one_hot], axis=1)\n",
        "data.info()"
      ],
      "metadata": {
        "colab": {
          "base_uri": "https://localhost:8080/"
        },
        "id": "jSoiAcmZOV_U",
        "outputId": "23168f51-e0f1-4d86-8909-a99befd0eb9e"
      },
      "execution_count": null,
      "outputs": [
        {
          "output_type": "stream",
          "name": "stdout",
          "text": [
            "<class 'pandas.core.frame.DataFrame'>\n",
            "Int64Index: 17112 entries, 2 to 28199\n",
            "Data columns (total 26 columns):\n",
            " #   Column                          Non-Null Count  Dtype  \n",
            "---  ------                          --------------  -----  \n",
            " 0   wind_speed(m/s)                 17112 non-null  float64\n",
            " 1   atmospheric_temperature(°C)     17112 non-null  float64\n",
            " 2   shaft_temperature(°C)           17112 non-null  float64\n",
            " 3   blades_angle(°)                 17112 non-null  float64\n",
            " 4   gearbox_temperature(°C)         17112 non-null  float64\n",
            " 5   atmospheric_pressure(Pascal)    17112 non-null  float64\n",
            " 6   windmill_body_temperature(°C)   17112 non-null  float64\n",
            " 7   wind_direction(°)               17112 non-null  float64\n",
            " 8   rotor_torque(N-m)               17112 non-null  float64\n",
            " 9   cloud_level                     17112 non-null  float64\n",
            " 10  blade_length(m)                 17112 non-null  float64\n",
            " 11  windmill_generated_power(kW/h)  17112 non-null  float64\n",
            " 12  1.0                             17112 non-null  uint8  \n",
            " 13  2.0                             17112 non-null  uint8  \n",
            " 14  3.0                             17112 non-null  uint8  \n",
            " 15  4.0                             17112 non-null  uint8  \n",
            " 16  5.0                             17112 non-null  uint8  \n",
            " 17  6.0                             17112 non-null  uint8  \n",
            " 18  7.0                             17112 non-null  uint8  \n",
            " 19  8.0                             17112 non-null  uint8  \n",
            " 20  9.0                             17112 non-null  uint8  \n",
            " 21  10.0                            17112 non-null  uint8  \n",
            " 22  11.0                            17112 non-null  uint8  \n",
            " 23  12.0                            17112 non-null  uint8  \n",
            " 24  13.0                            17112 non-null  uint8  \n",
            " 25  14.0                            17112 non-null  uint8  \n",
            "dtypes: float64(12), uint8(14)\n",
            "memory usage: 1.9 MB\n"
          ]
        }
      ]
    },
    {
      "cell_type": "markdown",
      "source": [
        "MODEL TRAINING<br>\n",
        "this is random forest and decision tree, debating on instead of decision tree, do a bad model to compare different"
      ],
      "metadata": {
        "id": "U8oXsCHC_2Sl"
      }
    },
    {
      "cell_type": "code",
      "source": [
        "target = \"windmill_generated_power(kW/h)\"#10\n",
        "x = data.drop(target,axis=1)\n",
        "y = data[target]\n",
        "#x_train, x_test, y_train, y_test = train_test_split(x, y, test_size=0.2, random_state=2024)"
      ],
      "metadata": {
        "id": "35sgq6ACW_jN"
      },
      "execution_count": null,
      "outputs": []
    },
    {
      "cell_type": "code",
      "source": [],
      "metadata": {
        "id": "rF3V1QdEWjrR"
      },
      "execution_count": null,
      "outputs": []
    },
    {
      "cell_type": "code",
      "source": [
        "x.columns = x.columns.astype(str)\n",
        "scaler = StandardScaler()#11\n",
        "x = scaler.fit_transform(x)"
      ],
      "metadata": {
        "id": "8ZQsb6GvRfuT"
      },
      "execution_count": null,
      "outputs": []
    },
    {
      "cell_type": "code",
      "source": [
        "x_train, x_test, y_train, y_test = train_test_split(x, y, test_size=0.2, random_state=2024)#12"
      ],
      "metadata": {
        "id": "Q0IcAmLUUbEb"
      },
      "execution_count": null,
      "outputs": []
    },
    {
      "cell_type": "code",
      "source": [
        "model = RandomForestRegressor(n_estimators=100, random_state=2024)"
      ],
      "metadata": {
        "id": "DZxbeDH-UbHl"
      },
      "execution_count": null,
      "outputs": []
    },
    {
      "cell_type": "code",
      "source": [
        "model.fit(x_train,y_train)\n"
      ],
      "metadata": {
        "colab": {
          "base_uri": "https://localhost:8080/",
          "height": 75
        },
        "id": "gTyj9qkGUbKy",
        "outputId": "9ad5d564-6764-4c8e-e90b-f0c25e69bd1f"
      },
      "execution_count": null,
      "outputs": [
        {
          "output_type": "execute_result",
          "data": {
            "text/plain": [
              "RandomForestRegressor(random_state=2024)"
            ],
            "text/html": [
              "<style>#sk-container-id-1 {color: black;background-color: white;}#sk-container-id-1 pre{padding: 0;}#sk-container-id-1 div.sk-toggleable {background-color: white;}#sk-container-id-1 label.sk-toggleable__label {cursor: pointer;display: block;width: 100%;margin-bottom: 0;padding: 0.3em;box-sizing: border-box;text-align: center;}#sk-container-id-1 label.sk-toggleable__label-arrow:before {content: \"▸\";float: left;margin-right: 0.25em;color: #696969;}#sk-container-id-1 label.sk-toggleable__label-arrow:hover:before {color: black;}#sk-container-id-1 div.sk-estimator:hover label.sk-toggleable__label-arrow:before {color: black;}#sk-container-id-1 div.sk-toggleable__content {max-height: 0;max-width: 0;overflow: hidden;text-align: left;background-color: #f0f8ff;}#sk-container-id-1 div.sk-toggleable__content pre {margin: 0.2em;color: black;border-radius: 0.25em;background-color: #f0f8ff;}#sk-container-id-1 input.sk-toggleable__control:checked~div.sk-toggleable__content {max-height: 200px;max-width: 100%;overflow: auto;}#sk-container-id-1 input.sk-toggleable__control:checked~label.sk-toggleable__label-arrow:before {content: \"▾\";}#sk-container-id-1 div.sk-estimator input.sk-toggleable__control:checked~label.sk-toggleable__label {background-color: #d4ebff;}#sk-container-id-1 div.sk-label input.sk-toggleable__control:checked~label.sk-toggleable__label {background-color: #d4ebff;}#sk-container-id-1 input.sk-hidden--visually {border: 0;clip: rect(1px 1px 1px 1px);clip: rect(1px, 1px, 1px, 1px);height: 1px;margin: -1px;overflow: hidden;padding: 0;position: absolute;width: 1px;}#sk-container-id-1 div.sk-estimator {font-family: monospace;background-color: #f0f8ff;border: 1px dotted black;border-radius: 0.25em;box-sizing: border-box;margin-bottom: 0.5em;}#sk-container-id-1 div.sk-estimator:hover {background-color: #d4ebff;}#sk-container-id-1 div.sk-parallel-item::after {content: \"\";width: 100%;border-bottom: 1px solid gray;flex-grow: 1;}#sk-container-id-1 div.sk-label:hover label.sk-toggleable__label {background-color: #d4ebff;}#sk-container-id-1 div.sk-serial::before {content: \"\";position: absolute;border-left: 1px solid gray;box-sizing: border-box;top: 0;bottom: 0;left: 50%;z-index: 0;}#sk-container-id-1 div.sk-serial {display: flex;flex-direction: column;align-items: center;background-color: white;padding-right: 0.2em;padding-left: 0.2em;position: relative;}#sk-container-id-1 div.sk-item {position: relative;z-index: 1;}#sk-container-id-1 div.sk-parallel {display: flex;align-items: stretch;justify-content: center;background-color: white;position: relative;}#sk-container-id-1 div.sk-item::before, #sk-container-id-1 div.sk-parallel-item::before {content: \"\";position: absolute;border-left: 1px solid gray;box-sizing: border-box;top: 0;bottom: 0;left: 50%;z-index: -1;}#sk-container-id-1 div.sk-parallel-item {display: flex;flex-direction: column;z-index: 1;position: relative;background-color: white;}#sk-container-id-1 div.sk-parallel-item:first-child::after {align-self: flex-end;width: 50%;}#sk-container-id-1 div.sk-parallel-item:last-child::after {align-self: flex-start;width: 50%;}#sk-container-id-1 div.sk-parallel-item:only-child::after {width: 0;}#sk-container-id-1 div.sk-dashed-wrapped {border: 1px dashed gray;margin: 0 0.4em 0.5em 0.4em;box-sizing: border-box;padding-bottom: 0.4em;background-color: white;}#sk-container-id-1 div.sk-label label {font-family: monospace;font-weight: bold;display: inline-block;line-height: 1.2em;}#sk-container-id-1 div.sk-label-container {text-align: center;}#sk-container-id-1 div.sk-container {/* jupyter's `normalize.less` sets `[hidden] { display: none; }` but bootstrap.min.css set `[hidden] { display: none !important; }` so we also need the `!important` here to be able to override the default hidden behavior on the sphinx rendered scikit-learn.org. See: https://github.com/scikit-learn/scikit-learn/issues/21755 */display: inline-block !important;position: relative;}#sk-container-id-1 div.sk-text-repr-fallback {display: none;}</style><div id=\"sk-container-id-1\" class=\"sk-top-container\"><div class=\"sk-text-repr-fallback\"><pre>RandomForestRegressor(random_state=2024)</pre><b>In a Jupyter environment, please rerun this cell to show the HTML representation or trust the notebook. <br />On GitHub, the HTML representation is unable to render, please try loading this page with nbviewer.org.</b></div><div class=\"sk-container\" hidden><div class=\"sk-item\"><div class=\"sk-estimator sk-toggleable\"><input class=\"sk-toggleable__control sk-hidden--visually\" id=\"sk-estimator-id-1\" type=\"checkbox\" checked><label for=\"sk-estimator-id-1\" class=\"sk-toggleable__label sk-toggleable__label-arrow\">RandomForestRegressor</label><div class=\"sk-toggleable__content\"><pre>RandomForestRegressor(random_state=2024)</pre></div></div></div></div></div>"
            ]
          },
          "metadata": {},
          "execution_count": 200
        }
      ]
    },
    {
      "cell_type": "code",
      "source": [
        "#print(grid_search.best_params_)\n",
        "\n",
        "y_predict = model.predict(x_test)\n",
        "mae = mean_absolute_error(y_test, y_predict)\n",
        "mse = mean_squared_error(y_test, y_predict)\n",
        "r2 = r2_score(y_test, y_predict)\n",
        "print(\"Mean absolute error: {}\".format(mae))\n",
        "print(\"Mean squared error: {}\".format(mse))\n",
        "print(\"R2: {}\".format(r2))"
      ],
      "metadata": {
        "colab": {
          "base_uri": "https://localhost:8080/"
        },
        "id": "zxPEuneklkMz",
        "outputId": "88083946-9024-4b4e-84e4-32b575b2fd85"
      },
      "execution_count": null,
      "outputs": [
        {
          "output_type": "stream",
          "name": "stdout",
          "text": [
            "Mean absolute error: 0.530845476867633\n",
            "Mean squared error: 0.7392210114500414\n",
            "R2: 0.8929935341593134\n"
          ]
        }
      ]
    },
    {
      "cell_type": "code",
      "source": [
        "model2 = DecisionTreeRegressor(max_depth=10, random_state=2024)"
      ],
      "metadata": {
        "id": "zbdITWeblkJg"
      },
      "execution_count": null,
      "outputs": []
    },
    {
      "cell_type": "code",
      "source": [
        "model2.fit(x_train,y_train)"
      ],
      "metadata": {
        "colab": {
          "base_uri": "https://localhost:8080/",
          "height": 75
        },
        "id": "UB2AXnN4lkGO",
        "outputId": "133279ac-a574-4da4-d385-c37eaded2538"
      },
      "execution_count": null,
      "outputs": [
        {
          "output_type": "execute_result",
          "data": {
            "text/plain": [
              "DecisionTreeRegressor(max_depth=10, random_state=2024)"
            ],
            "text/html": [
              "<style>#sk-container-id-2 {color: black;background-color: white;}#sk-container-id-2 pre{padding: 0;}#sk-container-id-2 div.sk-toggleable {background-color: white;}#sk-container-id-2 label.sk-toggleable__label {cursor: pointer;display: block;width: 100%;margin-bottom: 0;padding: 0.3em;box-sizing: border-box;text-align: center;}#sk-container-id-2 label.sk-toggleable__label-arrow:before {content: \"▸\";float: left;margin-right: 0.25em;color: #696969;}#sk-container-id-2 label.sk-toggleable__label-arrow:hover:before {color: black;}#sk-container-id-2 div.sk-estimator:hover label.sk-toggleable__label-arrow:before {color: black;}#sk-container-id-2 div.sk-toggleable__content {max-height: 0;max-width: 0;overflow: hidden;text-align: left;background-color: #f0f8ff;}#sk-container-id-2 div.sk-toggleable__content pre {margin: 0.2em;color: black;border-radius: 0.25em;background-color: #f0f8ff;}#sk-container-id-2 input.sk-toggleable__control:checked~div.sk-toggleable__content {max-height: 200px;max-width: 100%;overflow: auto;}#sk-container-id-2 input.sk-toggleable__control:checked~label.sk-toggleable__label-arrow:before {content: \"▾\";}#sk-container-id-2 div.sk-estimator input.sk-toggleable__control:checked~label.sk-toggleable__label {background-color: #d4ebff;}#sk-container-id-2 div.sk-label input.sk-toggleable__control:checked~label.sk-toggleable__label {background-color: #d4ebff;}#sk-container-id-2 input.sk-hidden--visually {border: 0;clip: rect(1px 1px 1px 1px);clip: rect(1px, 1px, 1px, 1px);height: 1px;margin: -1px;overflow: hidden;padding: 0;position: absolute;width: 1px;}#sk-container-id-2 div.sk-estimator {font-family: monospace;background-color: #f0f8ff;border: 1px dotted black;border-radius: 0.25em;box-sizing: border-box;margin-bottom: 0.5em;}#sk-container-id-2 div.sk-estimator:hover {background-color: #d4ebff;}#sk-container-id-2 div.sk-parallel-item::after {content: \"\";width: 100%;border-bottom: 1px solid gray;flex-grow: 1;}#sk-container-id-2 div.sk-label:hover label.sk-toggleable__label {background-color: #d4ebff;}#sk-container-id-2 div.sk-serial::before {content: \"\";position: absolute;border-left: 1px solid gray;box-sizing: border-box;top: 0;bottom: 0;left: 50%;z-index: 0;}#sk-container-id-2 div.sk-serial {display: flex;flex-direction: column;align-items: center;background-color: white;padding-right: 0.2em;padding-left: 0.2em;position: relative;}#sk-container-id-2 div.sk-item {position: relative;z-index: 1;}#sk-container-id-2 div.sk-parallel {display: flex;align-items: stretch;justify-content: center;background-color: white;position: relative;}#sk-container-id-2 div.sk-item::before, #sk-container-id-2 div.sk-parallel-item::before {content: \"\";position: absolute;border-left: 1px solid gray;box-sizing: border-box;top: 0;bottom: 0;left: 50%;z-index: -1;}#sk-container-id-2 div.sk-parallel-item {display: flex;flex-direction: column;z-index: 1;position: relative;background-color: white;}#sk-container-id-2 div.sk-parallel-item:first-child::after {align-self: flex-end;width: 50%;}#sk-container-id-2 div.sk-parallel-item:last-child::after {align-self: flex-start;width: 50%;}#sk-container-id-2 div.sk-parallel-item:only-child::after {width: 0;}#sk-container-id-2 div.sk-dashed-wrapped {border: 1px dashed gray;margin: 0 0.4em 0.5em 0.4em;box-sizing: border-box;padding-bottom: 0.4em;background-color: white;}#sk-container-id-2 div.sk-label label {font-family: monospace;font-weight: bold;display: inline-block;line-height: 1.2em;}#sk-container-id-2 div.sk-label-container {text-align: center;}#sk-container-id-2 div.sk-container {/* jupyter's `normalize.less` sets `[hidden] { display: none; }` but bootstrap.min.css set `[hidden] { display: none !important; }` so we also need the `!important` here to be able to override the default hidden behavior on the sphinx rendered scikit-learn.org. See: https://github.com/scikit-learn/scikit-learn/issues/21755 */display: inline-block !important;position: relative;}#sk-container-id-2 div.sk-text-repr-fallback {display: none;}</style><div id=\"sk-container-id-2\" class=\"sk-top-container\"><div class=\"sk-text-repr-fallback\"><pre>DecisionTreeRegressor(max_depth=10, random_state=2024)</pre><b>In a Jupyter environment, please rerun this cell to show the HTML representation or trust the notebook. <br />On GitHub, the HTML representation is unable to render, please try loading this page with nbviewer.org.</b></div><div class=\"sk-container\" hidden><div class=\"sk-item\"><div class=\"sk-estimator sk-toggleable\"><input class=\"sk-toggleable__control sk-hidden--visually\" id=\"sk-estimator-id-2\" type=\"checkbox\" checked><label for=\"sk-estimator-id-2\" class=\"sk-toggleable__label sk-toggleable__label-arrow\">DecisionTreeRegressor</label><div class=\"sk-toggleable__content\"><pre>DecisionTreeRegressor(max_depth=10, random_state=2024)</pre></div></div></div></div></div>"
            ]
          },
          "metadata": {},
          "execution_count": 204
        }
      ]
    },
    {
      "cell_type": "code",
      "source": [
        "#print(grid_search.best_params_)\n",
        "y_predict = model2.predict(x_test)\n",
        "mae = mean_absolute_error(y_test, y_predict)\n",
        "mse = mean_squared_error(y_test, y_predict)\n",
        "r2 = r2_score(y_test, y_predict)\n",
        "print(\"Mean absolute error: {}\".format(mae))\n",
        "print(\"Mean squared error: {}\".format(mse))\n",
        "print(\"R2: {}\".format(r2))"
      ],
      "metadata": {
        "colab": {
          "base_uri": "https://localhost:8080/"
        },
        "id": "U0qHh4I_lkC7",
        "outputId": "9f75c954-ecb0-4f1c-8c07-6c5fbe9df5cc"
      },
      "execution_count": null,
      "outputs": [
        {
          "output_type": "stream",
          "name": "stdout",
          "text": [
            "Mean absolute error: 0.630246779649018\n",
            "Mean squared error: 1.1175538463991643\n",
            "R2: 0.8382276942382041\n"
          ]
        }
      ]
    },
    {
      "cell_type": "code",
      "source": [],
      "metadata": {
        "id": "N2jLNaLolj_H"
      },
      "execution_count": null,
      "outputs": []
    },
    {
      "cell_type": "markdown",
      "source": [
        "GRID/RANDOMIZED SEARCH FOR HYPER PARAM<br>\n",
        "move it up before fit than fit with the hyper parameters"
      ],
      "metadata": {
        "id": "Hbeteryt_bwJ"
      }
    },
    {
      "cell_type": "code",
      "source": [],
      "metadata": {
        "id": "3c6XrEU8lj8r"
      },
      "execution_count": null,
      "outputs": []
    },
    {
      "cell_type": "code",
      "source": [
        "param_grid = {\n",
        "     \"n_estimators\": [50, 100, 200],\n",
        "     \"criterion\": [\"squared_error\", \"absolute_error\", \"poisson\",'friedman_mse'],\n",
        "     \"max_depth\": [None, 2, 5, 10],\n",
        "     \"max_features\": [1.0, \"sqrt\", \"log2\"]\n",
        "}"
      ],
      "metadata": {
        "id": "_Z4b5t1nUbWt"
      },
      "execution_count": null,
      "outputs": []
    },
    {
      "cell_type": "code",
      "source": [
        "grid = GridSearchCV(model,param_grid=param_grid,scoring=\"r2\",verbose=2,n_jobs=6)\n",
        "                                                        #neg_root_mean_squared_error\n",
        "                                                        #neg_mean_absolute_error"
      ],
      "metadata": {
        "id": "8qToCwPdX7-T"
      },
      "execution_count": null,
      "outputs": []
    },
    {
      "cell_type": "code",
      "source": [
        "grid.fit(x_train, y_train)"
      ],
      "metadata": {
        "id": "Wn3KwQ59dB4H"
      },
      "execution_count": null,
      "outputs": []
    },
    {
      "cell_type": "code",
      "source": [
        "#print(grid_search.best_params_)\n",
        "y_predict = grid.predict(x_test)\n",
        "mae = mean_absolute_error(y_test, y_predict)\n",
        "mse = mean_squared_error(y_test, y_predict)\n",
        "r2 = r2_score(y_test, y_predict)"
      ],
      "metadata": {
        "id": "htl_ZUmUkWpT"
      },
      "execution_count": null,
      "outputs": []
    },
    {
      "cell_type": "markdown",
      "source": [
        "IGNORE EVERYTHING BELOW"
      ],
      "metadata": {
        "id": "NQohBung_fIE"
      }
    },
    {
      "cell_type": "code",
      "source": [
        "#report = ProfileReport(data, title = \"report\", explorative=True)\n",
        "#report.to_file(\"remove_outliers_report.html\")"
      ],
      "metadata": {
        "id": "pWtKG1zVdaXG",
        "colab": {
          "base_uri": "https://localhost:8080/",
          "height": 287,
          "referenced_widgets": [
            "a31919af4e124adba6354f31079f0ebd",
            "935075601d634d98bdb32a3fb3558810",
            "b0638344299446968f12a0f56bc8dfca",
            "e3eb9c9538e24ddaab41153e313ca889",
            "1fbeae39bdc34872a3eba5a16a71a168",
            "5688cc6591364041bbf41aaaa808a94e",
            "5ee1fa56cfd14b289edbcbfa5d6694a7",
            "8bf461f578e4494fba6f7ca8f95f9c91",
            "85f4f69cd912472880f46d476c55c981",
            "87143a147d29423892ea10533a4b320a",
            "86be5776d9d54b0fb0866dddf1c93d56",
            "26e0da5d3f9d4d67adfc3b878050d169",
            "2ea0dcb8ea4c49688fd5c66ff2b5fdf0",
            "876fc61af58444fda451ebadd2c5dddb",
            "b4de278b3e934e4993aeb07afcba5590",
            "cfc36a9c987f4a01a5b43c98e4642943",
            "328e209fcfe944018adfc6326af99200",
            "d5fb4a7af8e94982b7de5d34fecfef77",
            "eb9e916613a74e5299fedec226144ab1",
            "d10a579654304d5bbafb78628a5539df",
            "23fab7d5c8594813b7cc43246af8d70f",
            "04e2ac0579424a65991d3b0b5a65e135",
            "d8f97d07c3cf46afb6aeab3a506549cd",
            "0f00fe63649c489cbf93eee0dd9d7670",
            "283e7a950b8f4c6bbf7dfbe4c69bd015",
            "3ccd1f42c85648a4a103571ce81467e9",
            "75be41aee71f485f969bc713aa62cffb",
            "b5bfee7d53cf48c99cc6f5fcdd3253bf",
            "e2beb0ea1b7e469e9d6a17e272f48f19",
            "fdd10ba16bb842d99efe5d221f9f3ddd",
            "f166b6ba282b4ce88b675e70ecbb287c",
            "b03689c2b5d8455ea088efc8d814b1de",
            "2a91973a33ec4688b60bd67de91d08d3",
            "8e577e5e6f63400194eb54aa226055c2",
            "3980083539e648d6a6554f644c61dddf",
            "6467dab696144e799c0de301642e3436",
            "eeeee3b0e3bf47ba96e5d5f6293486f4",
            "5fba87490cee4314baf552125aa5b901",
            "621107c2e68a41bfad4244ed0defddab",
            "d86cb8280ddd44d395d0e4cc8ada4177",
            "bd8131e7a24d40ffa7109a580788922e",
            "a5cf913ecb9a461f80dc0d8dde20fa61",
            "8a2c8bbbac8b4f7b8b8b9d7ca28363b1",
            "096bd785274f4a4ca56d2989db7d0d5a"
          ]
        },
        "outputId": "d95a7c0d-16ff-41dc-cd48-1b7373b8ed11"
      },
      "execution_count": null,
      "outputs": [
        {
          "output_type": "stream",
          "name": "stderr",
          "text": [
            "/usr/local/lib/python3.10/dist-packages/ydata_profiling/profile_report.py:354: UserWarning: Try running command: 'pip install --upgrade Pillow' to avoid ValueError\n",
            "  warnings.warn(\n",
            "/usr/local/lib/python3.10/dist-packages/ydata_profiling/utils/dataframe.py:137: SettingWithCopyWarning: \n",
            "A value is trying to be set on a copy of a slice from a DataFrame\n",
            "\n",
            "See the caveats in the documentation: https://pandas.pydata.org/pandas-docs/stable/user_guide/indexing.html#returning-a-view-versus-a-copy\n",
            "  df.rename(columns={\"index\": \"df_index\"}, inplace=True)\n"
          ]
        },
        {
          "output_type": "display_data",
          "data": {
            "text/plain": [
              "Summarize dataset:   0%|          | 0/5 [00:00<?, ?it/s]"
            ],
            "application/vnd.jupyter.widget-view+json": {
              "version_major": 2,
              "version_minor": 0,
              "model_id": "a31919af4e124adba6354f31079f0ebd"
            }
          },
          "metadata": {}
        },
        {
          "output_type": "display_data",
          "data": {
            "text/plain": [
              "Generate report structure:   0%|          | 0/1 [00:00<?, ?it/s]"
            ],
            "application/vnd.jupyter.widget-view+json": {
              "version_major": 2,
              "version_minor": 0,
              "model_id": "26e0da5d3f9d4d67adfc3b878050d169"
            }
          },
          "metadata": {}
        },
        {
          "output_type": "display_data",
          "data": {
            "text/plain": [
              "Render HTML:   0%|          | 0/1 [00:00<?, ?it/s]"
            ],
            "application/vnd.jupyter.widget-view+json": {
              "version_major": 2,
              "version_minor": 0,
              "model_id": "d8f97d07c3cf46afb6aeab3a506549cd"
            }
          },
          "metadata": {}
        },
        {
          "output_type": "display_data",
          "data": {
            "text/plain": [
              "Export report to file:   0%|          | 0/1 [00:00<?, ?it/s]"
            ],
            "application/vnd.jupyter.widget-view+json": {
              "version_major": 2,
              "version_minor": 0,
              "model_id": "8e577e5e6f63400194eb54aa226055c2"
            }
          },
          "metadata": {}
        }
      ]
    },
    {
      "cell_type": "code",
      "source": [
        "clf = LazyRegressor(verbose=0, ignore_warnings=True, custom_metric=None)#im trying to see which is the best model\n",
        "\n",
        "models, predictions = clf.fit(x_train, x_test, y_train, y_test)#13"
      ],
      "metadata": {
        "colab": {
          "base_uri": "https://localhost:8080/"
        },
        "id": "5eGD43o_c5qh",
        "outputId": "1e019361-e0c8-44e5-9614-a2b99dd91447"
      },
      "execution_count": null,
      "outputs": [
        {
          "output_type": "stream",
          "name": "stderr",
          "text": [
            " 98%|█████████▊| 41/42 [02:46<00:02,  2.39s/it]"
          ]
        },
        {
          "output_type": "stream",
          "name": "stdout",
          "text": [
            "[LightGBM] [Info] Auto-choosing col-wise multi-threading, the overhead of testing was 0.001376 seconds.\n",
            "You can set `force_col_wise=true` to remove the overhead.\n",
            "[LightGBM] [Info] Total Bins 2569\n",
            "[LightGBM] [Info] Number of data points in the train set: 13707, number of used features: 12\n",
            "[LightGBM] [Info] Start training from score 6.072357\n"
          ]
        },
        {
          "output_type": "stream",
          "name": "stderr",
          "text": [
            "100%|██████████| 42/42 [02:47<00:00,  3.98s/it]\n"
          ]
        }
      ]
    },
    {
      "cell_type": "code",
      "source": [
        "print(predictions)#we should use Decision tree and random forest."
      ],
      "metadata": {
        "colab": {
          "base_uri": "https://localhost:8080/"
        },
        "id": "WDj61nhFeFfl",
        "outputId": "e9f6641c-001e-49ca-8e4d-441d57c9479c"
      },
      "execution_count": null,
      "outputs": [
        {
          "output_type": "stream",
          "name": "stdout",
          "text": [
            "                               Adjusted R-Squared  R-Squared  RMSE  Time Taken\n",
            "Model                                                                         \n",
            "HistGradientBoostingRegressor                0.89       0.89  0.85        0.44\n",
            "LGBMRegressor                                0.89       0.89  0.86        0.46\n",
            "XGBRegressor                                 0.88       0.89  0.87        0.44\n",
            "RandomForestRegressor                        0.88       0.88  0.91       14.66\n",
            "ExtraTreesRegressor                          0.85       0.85  0.99        4.29\n",
            "BaggingRegressor                             0.85       0.85  0.99        1.34\n",
            "GradientBoostingRegressor                    0.84       0.84  1.02        4.48\n",
            "DecisionTreeRegressor                        0.76       0.76  1.27        0.26\n",
            "MLPRegressor                                 0.71       0.71  1.39        8.15\n",
            "AdaBoostRegressor                            0.64       0.64  1.55        3.15\n",
            "ExtraTreeRegressor                           0.47       0.47  1.87        0.12\n",
            "NuSVR                                        0.34       0.34  2.09        9.47\n",
            "SVR                                          0.34       0.34  2.09       13.02\n",
            "KNeighborsRegressor                          0.24       0.25  2.23        0.57\n",
            "TransformedTargetRegressor                   0.19       0.19  2.32        0.09\n",
            "LinearRegression                             0.19       0.19  2.32        0.04\n",
            "Lars                                         0.19       0.19  2.32        0.03\n",
            "Ridge                                        0.19       0.19  2.32        0.02\n",
            "RidgeCV                                      0.19       0.19  2.32        0.03\n",
            "BayesianRidge                                0.19       0.19  2.32        0.06\n",
            "LassoCV                                      0.19       0.19  2.32        0.23\n",
            "LarsCV                                       0.19       0.19  2.32        0.12\n",
            "LassoLarsCV                                  0.19       0.19  2.32        0.09\n",
            "ElasticNetCV                                 0.19       0.19  2.32        0.19\n",
            "LassoLarsIC                                  0.19       0.19  2.32        0.06\n",
            "HuberRegressor                               0.19       0.19  2.32        0.03\n",
            "SGDRegressor                                 0.18       0.19  2.32        0.09\n",
            "LinearSVR                                    0.18       0.18  2.33        0.17\n",
            "PoissonRegressor                             0.18       0.18  2.33        0.19\n",
            "OrthogonalMatchingPursuitCV                  0.18       0.18  2.33        0.09\n",
            "GammaRegressor                               0.14       0.14  2.39        0.09\n",
            "TweedieRegressor                             0.14       0.14  2.39        0.19\n",
            "OrthogonalMatchingPursuit                    0.11       0.11  2.43        0.05\n",
            "ElasticNet                                   0.05       0.05  2.51        0.02\n",
            "LassoLars                                   -0.00      -0.00  2.58        0.03\n",
            "DummyRegressor                              -0.00      -0.00  2.58        0.01\n",
            "Lasso                                       -0.00      -0.00  2.58        0.02\n",
            "GaussianProcessRegressor                    -0.47      -0.46  3.12       78.31\n",
            "RANSACRegressor                             -0.50      -0.50  3.15        0.44\n",
            "PassiveAggressiveRegressor                  -0.69      -0.68  3.34        0.05\n",
            "KernelRidge                                 -5.26      -5.24  6.43       25.30\n"
          ]
        }
      ]
    }
  ]
}